{
 "cells": [
  {
   "cell_type": "markdown",
   "id": "cbf7e270",
   "metadata": {},
   "source": [
    "# Part 1"
   ]
  },
  {
   "cell_type": "code",
   "execution_count": 31,
   "id": "a2d1b563",
   "metadata": {},
   "outputs": [
    {
     "name": "stdout",
     "output_type": "stream",
     "text": [
      "   0  1  2  3  4  5  6  7  8  9   ... 90 91 92 93 94 95 96 97 98 99\n",
      "0   9  1  9  7  7  9  9  9  6  7  ...  1  8  3  8  9  9  4  6  8  9\n",
      "1   9  4  5  4  6  9  9  4  2  8  ...  1  7  6  8  2  6  4  2  3  9\n",
      "2   1  4  7  6  1  2  4  5  6  7  ...  9  5  5  7  2  9  4  8  5  7\n",
      "3   5  7  9  1  9  1  8  2  3  9  ...  3  4  7  9  4  6  9  6  9  7\n",
      "4   7  1  6  9  6  3  5  3  9  9  ...  7  6  9  9  8  8  3  8  5  8\n",
      ".. .. .. .. .. .. .. .. .. .. ..  ... .. .. .. .. .. .. .. .. .. ..\n",
      "95  8  8  8  7  6  9  8  9  1  7  ...  7  7  1  5  5  8  8  9  1  9\n",
      "96  1  4  9  8  6  9  6  7  9  9  ...  7  8  7  6  1  5  6  8  2  4\n",
      "97  8  2  1  3  9  6  2  6  1  7  ...  6  6  6  8  8  8  5  8  4  9\n",
      "98  9  5  4  7  8  8  1  7  6  7  ...  8  1  8  9  9  1  1  8  6  9\n",
      "99  9  9  5  8  8  7  7  5  5  9  ...  7  7  1  2  9  5  8  8  2  8\n",
      "\n",
      "[100 rows x 100 columns]\n"
     ]
    }
   ],
   "source": [
    "from collections import defaultdict\n",
    "import pandas as pd\n",
    "\n",
    "df = []\n",
    "grid = defaultdict(int)\n",
    "for y, line in enumerate(open('data.txt').read().splitlines()):\n",
    "    tmp = []\n",
    "    for x, w in enumerate(line):\n",
    "        tmp.append(w)\n",
    "        grid[(x,y)] = int(w)\n",
    "    df.append(tmp)\n",
    "    \n",
    "df = pd.DataFrame(df)\n",
    "print(df)"
   ]
  },
  {
   "cell_type": "code",
   "execution_count": 32,
   "id": "c2c99db7",
   "metadata": {},
   "outputs": [],
   "source": [
    "def adjacent(coord, grid):\n",
    "    x, y = coord\n",
    "    return set(filter(grid.get, [(x+1,y),(x,y+1),(x-1,y),(x,y-1)]))\n",
    "\n"
   ]
  },
  {
   "cell_type": "code",
   "execution_count": 33,
   "id": "f20031d8",
   "metadata": {},
   "outputs": [],
   "source": [
    "def dijkstra(grid, source, target):\n",
    "    Q = set()\n",
    "    dist = defaultdict(int)\n",
    "    #prev = defaultdict(int)\n",
    "    \n",
    "    for v in grid:\n",
    "        dist[v] = 999999999 \n",
    "        #prev[v] = 0\n",
    "        Q.add(v)\n",
    "    dist[(0,0)] = 0\n",
    "    \n",
    "    while Q:\n",
    "        u = min(dist.keys() & Q, key=dist.get)\n",
    "        if u == target:\n",
    "            break\n",
    "        else:\n",
    "            Q.remove(u)\n",
    "\n",
    "            for adj in (adjacent(u, grid) & Q):\n",
    "                alt = dist[u] + grid[adj]\n",
    "                if alt < dist[adj]:\n",
    "                    dist[adj] = alt\n",
    "                    #prev[adj] = u          \n",
    "    return dist[target]#, prev[target]\n",
    "        "
   ]
  },
  {
   "cell_type": "code",
   "execution_count": 34,
   "id": "d48b798b",
   "metadata": {},
   "outputs": [
    {
     "data": {
      "text/plain": [
       "741"
      ]
     },
     "execution_count": 34,
     "metadata": {},
     "output_type": "execute_result"
    }
   ],
   "source": [
    "dijkstra(grid, (0,0), (99,99))"
   ]
  },
  {
   "cell_type": "markdown",
   "id": "1461aec2",
   "metadata": {},
   "source": [
    "# Part 2"
   ]
  },
  {
   "cell_type": "code",
   "execution_count": 35,
   "id": "f434f0db",
   "metadata": {},
   "outputs": [],
   "source": [
    "from collections import defaultdict\n",
    "import pandas as pd\n",
    "\n",
    "df = []\n",
    "grid = defaultdict(int)\n",
    "for y, line in enumerate(open('data.txt').read().splitlines()):\n",
    "    tmp = []\n",
    "    for x, w in enumerate(line):\n",
    "        tmp.append(w)\n",
    "        grid[(x,y)] = int(w)\n",
    "    df.append(tmp)\n",
    "    \n",
    "df = pd.DataFrame(df)\n"
   ]
  },
  {
   "cell_type": "code",
   "execution_count": 36,
   "id": "c501ad32",
   "metadata": {},
   "outputs": [],
   "source": [
    "def horizontal(grid, maximum):\n",
    "    '''Maximum here means the index in which it starts repeating.\n",
    "    9 for the sample, 99 for the actual.'''\n",
    "    mx, my = maximum\n",
    "    og = grid.copy()\n",
    "    for i in range(1,5):\n",
    "        for coord in og:\n",
    "            x,y = coord\n",
    "            if (og[(x,y)]+i)%9 == 0:\n",
    "                grid[(x+i*(mx+1), y)] = 9      \n",
    "            else:\n",
    "                grid[(x+i*(mx+1), y)] = (og[(x,y)]+i)%9\n",
    "    return grid\n"
   ]
  },
  {
   "cell_type": "code",
   "execution_count": 37,
   "id": "f4f2db67",
   "metadata": {},
   "outputs": [],
   "source": [
    "def vertical(grid, maximum):\n",
    "    '''Maximum here means the index in which it starts repeating.\n",
    "    9 for the sample, 99 for the actual.'''\n",
    "    mx, my = maximum\n",
    "    og = grid.copy()\n",
    "    for i in range(1,5):\n",
    "        for coord in og:\n",
    "            x,y = coord\n",
    "            if (og[(x,y)]+i)%9 == 0:\n",
    "                grid[(x, y+i*(mx+1))] = 9      \n",
    "            else:\n",
    "                grid[(x, y+i*(mx+1))] = (og[(x,y)]+i)%9\n",
    "    return grid\n",
    "         "
   ]
  },
  {
   "cell_type": "code",
   "execution_count": 38,
   "id": "82bab98a",
   "metadata": {},
   "outputs": [
    {
     "name": "stdout",
     "output_type": "stream",
     "text": [
      "(499, 499)\n"
     ]
    },
    {
     "data": {
      "text/plain": [
       "2976"
      ]
     },
     "execution_count": 38,
     "metadata": {},
     "output_type": "execute_result"
    }
   ],
   "source": [
    "new = horizontal(grid, (99,99))\n",
    "new = vertical(new, (99,99))\n",
    "print(max(new))\n",
    "dijkstra(new, (0,0), max(new))"
   ]
  },
  {
   "cell_type": "code",
   "execution_count": null,
   "id": "48a0cb44",
   "metadata": {},
   "outputs": [],
   "source": [
    "import timeit\n",
    "print(timeit.timeit('dijkstra(new, (0,0), max(new))', globals=globals(), number=1))"
   ]
  },
  {
   "cell_type": "markdown",
   "id": "e22c6a3b",
   "metadata": {},
   "source": [
    "# Testing/Working out"
   ]
  },
  {
   "cell_type": "code",
   "execution_count": 17,
   "id": "92f6d37a",
   "metadata": {},
   "outputs": [
    {
     "name": "stdout",
     "output_type": "stream",
     "text": [
      "   0  1  2  3  4  5  6  7  8  9\n",
      "0  1  1  6  3  7  5  1  7  4  2\n",
      "1  1  3  8  1  3  7  3  6  7  2\n",
      "2  2  1  3  6  5  1  1  3  2  8\n",
      "3  3  6  9  4  9  3  1  5  6  9\n",
      "4  7  4  6  3  4  1  7  1  1  1\n",
      "5  1  3  1  9  1  2  8  1  3  7\n",
      "6  1  3  5  9  9  1  2  4  2  1\n",
      "7  3  1  2  5  4  2  1  6  3  9\n",
      "8  1  2  9  3  1  3  8  5  2  1\n",
      "9  2  3  1  1  9  4  4  5  8  1\n",
      "(9, 9)\n"
     ]
    }
   ],
   "source": [
    "from collections import defaultdict\n",
    "import pandas as pd\n",
    "\n",
    "df = []\n",
    "grid = defaultdict(int)\n",
    "for y, line in enumerate(open('test.txt').read().splitlines()):\n",
    "    tmp = []\n",
    "    for x, w in enumerate(line):\n",
    "        tmp.append(w)\n",
    "        grid[(x,y)] = int(w)\n",
    "    df.append(tmp)\n",
    "    \n",
    "df = pd.DataFrame(df)\n",
    "\n",
    "maximum = x,y\n",
    "\n",
    "print(df)\n",
    "print(maximum)\n"
   ]
  },
  {
   "cell_type": "code",
   "execution_count": 18,
   "id": "f005dc6c",
   "metadata": {},
   "outputs": [
    {
     "data": {
      "text/plain": [
       "40"
      ]
     },
     "execution_count": 18,
     "metadata": {},
     "output_type": "execute_result"
    }
   ],
   "source": [
    "dijkstra(grid, (0,0), max(grid))"
   ]
  },
  {
   "cell_type": "code",
   "execution_count": 19,
   "id": "fe0f4c2f",
   "metadata": {},
   "outputs": [
    {
     "data": {
      "text/plain": [
       "315"
      ]
     },
     "execution_count": 19,
     "metadata": {},
     "output_type": "execute_result"
    }
   ],
   "source": [
    "new = horizontal(grid, (9,9))\n",
    "new = vertical(new, (9,9))\n",
    "dijkstra(new, (0,0), max(new))"
   ]
  },
  {
   "cell_type": "code",
   "execution_count": null,
   "id": "a7fc0856",
   "metadata": {},
   "outputs": [],
   "source": []
  }
 ],
 "metadata": {
  "kernelspec": {
   "display_name": "Python 3",
   "language": "python",
   "name": "python3"
  },
  "language_info": {
   "codemirror_mode": {
    "name": "ipython",
    "version": 3
   },
   "file_extension": ".py",
   "mimetype": "text/x-python",
   "name": "python",
   "nbconvert_exporter": "python",
   "pygments_lexer": "ipython3",
   "version": "3.9.2"
  }
 },
 "nbformat": 4,
 "nbformat_minor": 5
}
