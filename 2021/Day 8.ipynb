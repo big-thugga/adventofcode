{
 "cells": [
  {
   "cell_type": "code",
   "execution_count": 190,
   "id": "1b242a43",
   "metadata": {},
   "outputs": [],
   "source": [
    "data = []\n",
    "for line in open(\"data.txt\").read().splitlines():\n",
    "    data.append([element.split() for element in line.split(\"|\")])\n",
    "\n"
   ]
  },
  {
   "cell_type": "markdown",
   "id": "0428d551",
   "metadata": {},
   "source": [
    "# Part 1"
   ]
  },
  {
   "cell_type": "code",
   "execution_count": 65,
   "id": "7148b567",
   "metadata": {},
   "outputs": [
    {
     "name": "stdout",
     "output_type": "stream",
     "text": [
      "310\n"
     ]
    }
   ],
   "source": [
    "count = 0\n",
    "for i in range(len(data)):\n",
    "    for element in data[i][1]:\n",
    "        if len(element) in [2,3,4,7]:\n",
    "            count +=1\n",
    "print(count)\n"
   ]
  },
  {
   "cell_type": "markdown",
   "id": "85454298",
   "metadata": {},
   "source": [
    "# Part 2"
   ]
  },
  {
   "cell_type": "code",
   "execution_count": 184,
   "id": "87f1b736",
   "metadata": {},
   "outputs": [],
   "source": [
    "def decoder(code):\n",
    "    \"Takes in the code, which is a list of two elements, the first of which is 0-9, and the second is the 4 digit output.\"\n",
    "    \n",
    "    full = {'a', 'b', 'c', 'd', 'e', 'f', 'g'}\n",
    "    pos147 = full\n",
    "    pos1267 = full\n",
    "    \n",
    "    for element in code[0]:\n",
    "        if len(element) == 2:\n",
    "            pos36 = set(element)\n",
    "        elif len(element) == 3:\n",
    "            pos136 = set(element)\n",
    "        elif len(element) == 4:\n",
    "            pos2346 = set(element)\n",
    "        elif len(element) == 7:\n",
    "            pos1234567 = set(element)\n",
    "        elif len(element) == 5:\n",
    "            pos147 = pos147 & set(element)\n",
    "        else:\n",
    "            pos1267 = pos1267 & set(element)\n",
    "            \n",
    "\n",
    "\n",
    "    pos1 = pos136 - pos36  \n",
    "    pos7 = pos147 & pos1267 - pos1\n",
    "    pos24 = pos2346 - pos36\n",
    "    pos5 = pos1234567 - pos1 - pos7 - pos36 - pos24\n",
    "    pos4 = pos147 - pos1 - pos7\n",
    "    \n",
    "    pos236 = pos1234567 - pos1 - pos4 - pos5 - pos7\n",
    "    pos2 = pos236 - pos36\n",
    "    pos6 = pos1267 - pos1 - pos2 - pos7\n",
    "    pos3 = pos36 - pos6\n",
    "    \n",
    "    zero = pos1 | pos2 | pos3 | pos5 | pos6 | pos7\n",
    "    one = pos3 | pos6\n",
    "    two = pos1 | pos3 | pos4 | pos5 | pos7\n",
    "    three = pos1 | pos3 | pos4 | pos6 | pos7\n",
    "    four = pos2 | pos3 | pos4 | pos6\n",
    "    five = pos1 | pos2 | pos4 | pos6 | pos7\n",
    "    six = pos1 | pos2 | pos4 | pos5 | pos6 | pos7\n",
    "    seven = pos1 | pos3 | pos6\n",
    "    eight = pos1234567\n",
    "    nine = pos1234567 - pos5\n",
    "\n",
    "    \n",
    "    decoded = []\n",
    "\n",
    "    \n",
    "    for element in code[1]:\n",
    "\n",
    "        if set(element) == zero:\n",
    "            decoded.append(0)\n",
    "        elif set(element) == one:\n",
    "            decoded.append(1)\n",
    "        elif set(element) == two:\n",
    "            decoded.append(2)\n",
    "        elif set(element) == three:\n",
    "            decoded.append(3)\n",
    "        elif set(element) == four:\n",
    "            decoded.append(4)\n",
    "        elif set(element) == five:\n",
    "            decoded.append(5)\n",
    "        elif set(element) == six:\n",
    "            decoded.append(6)\n",
    "        elif set(element) == seven:\n",
    "            decoded.append(7)\n",
    "        elif set(element)==eight:\n",
    "            decoded.append(8)\n",
    "        else:\n",
    "            decoded.append(9)\n",
    "            \n",
    "    \n",
    "    return decoded\n",
    "    \n",
    "    "
   ]
  },
  {
   "cell_type": "code",
   "execution_count": 187,
   "id": "a4854ddc",
   "metadata": {},
   "outputs": [
    {
     "data": {
      "text/plain": [
       "4315"
      ]
     },
     "execution_count": 187,
     "metadata": {},
     "output_type": "execute_result"
    }
   ],
   "source": [
    "int(''.join(map(str, decoder(code))))"
   ]
  },
  {
   "cell_type": "code",
   "execution_count": 193,
   "id": "1a6eabde",
   "metadata": {},
   "outputs": [
    {
     "name": "stdout",
     "output_type": "stream",
     "text": [
      "915941\n"
     ]
    }
   ],
   "source": [
    "decoded = []\n",
    "for code in data:\n",
    "    decoded.append(int(''.join(map(str, decoder(code)))))\n",
    "\n",
    "total = 0\n",
    "\n",
    "for number in decoded:\n",
    "    total += number\n",
    "    \n",
    "print(total)"
   ]
  },
  {
   "cell_type": "markdown",
   "id": "bf5db0b0",
   "metadata": {},
   "source": [
    "# Test/Working out"
   ]
  },
  {
   "cell_type": "code",
   "execution_count": 138,
   "id": "1b01ebbf",
   "metadata": {},
   "outputs": [
    {
     "name": "stdout",
     "output_type": "stream",
     "text": [
      "26\n"
     ]
    }
   ],
   "source": [
    "data = []\n",
    "for line in open(\"test.txt\").read().splitlines():\n",
    "    data.append([element.split() for element in line.split(\"|\")])\n",
    "\n",
    "count = 0\n",
    "for i in range(len(data)):\n",
    "    for element in data[i][1]:\n",
    "        if len(element) in [2,3,4,7]:\n",
    "            count +=1\n",
    "print(count)\n"
   ]
  },
  {
   "cell_type": "code",
   "execution_count": 139,
   "id": "43a65758",
   "metadata": {},
   "outputs": [
    {
     "name": "stdout",
     "output_type": "stream",
     "text": [
      "['fdgacbe', 'cefdb', 'cefbgd', 'gcbe']\n",
      "True\n",
      "False\n",
      "False\n",
      "False\n"
     ]
    },
    {
     "data": {
      "text/plain": [
       "[0, 9, 9, 4]"
      ]
     },
     "execution_count": 139,
     "metadata": {},
     "output_type": "execute_result"
    }
   ],
   "source": [
    "decoder(data[0])"
   ]
  },
  {
   "cell_type": "code",
   "execution_count": 126,
   "id": "ad5a79f7",
   "metadata": {},
   "outputs": [
    {
     "data": {
      "text/plain": [
       "True"
      ]
     },
     "execution_count": 126,
     "metadata": {},
     "output_type": "execute_result"
    }
   ],
   "source": [
    "{'a','b'} == {'b','a'}"
   ]
  }
 ],
 "metadata": {
  "kernelspec": {
   "display_name": "Python 3",
   "language": "python",
   "name": "python3"
  },
  "language_info": {
   "codemirror_mode": {
    "name": "ipython",
    "version": 3
   },
   "file_extension": ".py",
   "mimetype": "text/x-python",
   "name": "python",
   "nbconvert_exporter": "python",
   "pygments_lexer": "ipython3",
   "version": "3.9.2"
  }
 },
 "nbformat": 4,
 "nbformat_minor": 5
}
