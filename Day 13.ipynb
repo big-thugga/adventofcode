{
 "cells": [
  {
   "cell_type": "markdown",
   "id": "fatty-incentive",
   "metadata": {},
   "source": [
    "# Part 1"
   ]
  },
  {
   "cell_type": "code",
   "execution_count": 1,
   "id": "smaller-significance",
   "metadata": {},
   "outputs": [],
   "source": [
    "dots = set()\n",
    "folds = []\n",
    "\n",
    "for line in open('data.txt').read().splitlines():\n",
    "    if line.split(' ')[0] == 'fold':\n",
    "        folds.append((line.split(' ')[2].split('=')[0], int(line.split(' ')[2].split('=')[1]))) \n",
    "    elif line == '':\n",
    "        continue\n",
    "    else:\n",
    "        dots.add(tuple(map(int,line.split(','))))\n",
    " \n"
   ]
  },
  {
   "cell_type": "code",
   "execution_count": 2,
   "id": "played-citation",
   "metadata": {},
   "outputs": [],
   "source": [
    "def fold(dots, fold, mx=0, my=0):\n",
    "    for coord in dots:\n",
    "        if coord[0] > mx:\n",
    "            mx = coord[0]\n",
    "        if coord[1] > my:\n",
    "            my = coord[1]\n",
    "    \n",
    "    if fold[0] == 'x':\n",
    "        for coord in dots.copy():\n",
    "            if coord[0] >= fold[1]:\n",
    "                dots.remove(coord)\n",
    "                dots.add((mx-coord[0], coord[1]))\n",
    "        mx = int(mx/2)\n",
    "    else:\n",
    "        for coord in dots.copy():\n",
    "            if coord[1] >= fold[1]:\n",
    "                dots.remove(coord)\n",
    "                dots.add((coord[0], my-coord[1]))\n",
    "        my = int(my/2)\n",
    "    \n",
    "    return dots, mx, my"
   ]
  },
  {
   "cell_type": "code",
   "execution_count": 3,
   "id": "adapted-rwanda",
   "metadata": {},
   "outputs": [
    {
     "data": {
      "text/plain": [
       "610"
      ]
     },
     "execution_count": 3,
     "metadata": {},
     "output_type": "execute_result"
    }
   ],
   "source": [
    "len(fold(dots, folds[0])[0])"
   ]
  },
  {
   "cell_type": "markdown",
   "id": "worth-herald",
   "metadata": {},
   "source": [
    "# Part 2"
   ]
  },
  {
   "cell_type": "code",
   "execution_count": 4,
   "id": "stuck-stress",
   "metadata": {},
   "outputs": [],
   "source": [
    "dots = set()\n",
    "folds = []\n",
    "\n",
    "for line in open('data.txt').read().splitlines():\n",
    "    if line.split(' ')[0] == 'fold':\n",
    "        folds.append((line.split(' ')[2].split('=')[0], int(line.split(' ')[2].split('=')[1]))) \n",
    "    elif line == '':\n",
    "        continue\n",
    "    else:\n",
    "        dots.add(tuple(map(int,line.split(','))))\n",
    " "
   ]
  },
  {
   "cell_type": "code",
   "execution_count": 5,
   "id": "cutting-strength",
   "metadata": {},
   "outputs": [],
   "source": [
    "def fold2(dots, folds):\n",
    "    mx, my = 0, 0\n",
    "    for coord in dots:\n",
    "        if coord[0] > mx:\n",
    "            mx = coord[0]\n",
    "        if coord[1] > my:\n",
    "            my = coord[1]\n",
    "\n",
    "    for fold in folds:  \n",
    "        if fold[0] == 'x':\n",
    "            for coord in dots.copy():\n",
    "                if coord[0] >= fold[1]:\n",
    "                    dots.remove(coord)\n",
    "                    dots.add((mx-coord[0], coord[1]))\n",
    "            mx = int((mx-2)/2)\n",
    "        else:\n",
    "            for coord in dots.copy():\n",
    "                if coord[1] >= fold[1]:\n",
    "                    dots.remove(coord)\n",
    "                    dots.add((coord[0], my-coord[1]))\n",
    "            my = int((my-2)/2)                \n",
    "                         \n",
    "    return dots, mx, my"
   ]
  },
  {
   "cell_type": "code",
   "execution_count": 6,
   "id": "dangerous-world",
   "metadata": {},
   "outputs": [],
   "source": [
    "def draw(dots, folds):\n",
    "    fold_info = fold2(dots, folds)\n",
    "    mx, my = fold_info[1:3]\n",
    "    for y in range(my+1):\n",
    "        for x in range(mx+1):\n",
    "            if (x,y) in fold_info[0]:\n",
    "                print('# ', end='')\n",
    "            else:\n",
    "                print('. ', end='')\n",
    "        print('\\n')\n"
   ]
  },
  {
   "cell_type": "code",
   "execution_count": 7,
   "id": "greenhouse-voltage",
   "metadata": {},
   "outputs": [
    {
     "name": "stdout",
     "output_type": "stream",
     "text": [
      "# # # . . # # # # . # # # # . . . # # . # . . # . # # # . . # # # # . # # # # . \n",
      "\n",
      "# . . # . . . . # . # . . . . . . . # . # . . # . # . . # . # . . . . . . . # . \n",
      "\n",
      "# . . # . . . # . . # # # . . . . . # . # # # # . # . . # . # # # . . . . # . . \n",
      "\n",
      "# # # . . . # . . . # . . . . . . . # . # . . # . # # # . . # . . . . . # . . . \n",
      "\n",
      "# . . . . # . . . . # . . . . # . . # . # . . # . # . # . . # . . . . # . . . . \n",
      "\n",
      "# . . . . # # # # . # . . . . . # # . . # . . # . # . . # . # . . . . # # # # . \n",
      "\n"
     ]
    }
   ],
   "source": [
    "draw(dots, folds)"
   ]
  },
  {
   "cell_type": "markdown",
   "id": "republican-springer",
   "metadata": {},
   "source": [
    "# Testing/Working out"
   ]
  },
  {
   "cell_type": "code",
   "execution_count": 8,
   "id": "domestic-magnitude",
   "metadata": {},
   "outputs": [],
   "source": [
    "dots = set()\n",
    "folds = []\n",
    "\n",
    "for line in open('test.txt').read().splitlines():\n",
    "    if line.split(' ')[0] == 'fold':\n",
    "        folds.append((line.split(' ')[2].split('=')[0], int(line.split(' ')[2].split('=')[1]))) \n",
    "    elif line == '':\n",
    "        continue\n",
    "    else:\n",
    "        dots.add(tuple(map(int,line.split(','))))\n",
    " \n"
   ]
  },
  {
   "cell_type": "code",
   "execution_count": 9,
   "id": "incomplete-actress",
   "metadata": {},
   "outputs": [
    {
     "name": "stdout",
     "output_type": "stream",
     "text": [
      "...#..#..#.\n",
      "\n",
      "....#......\n",
      "\n",
      "...........\n",
      "\n",
      "#..........\n",
      "\n",
      "...#....#.#\n",
      "\n",
      "...........\n",
      "\n",
      "...........\n",
      "\n",
      "...........\n",
      "\n",
      "...........\n",
      "\n",
      "...........\n",
      "\n",
      ".#....#.##.\n",
      "\n",
      "....#......\n",
      "\n",
      "......#...#\n",
      "\n",
      "#..........\n",
      "\n",
      "#.#........\n",
      "\n"
     ]
    }
   ],
   "source": [
    "mx, my = 0, 0\n",
    "for coord in dots:\n",
    "    if coord[0] > mx:\n",
    "        mx = coord[0]\n",
    "    if coord[1] > my:\n",
    "        my = coord[1]\n",
    "\n",
    "for y in range(my+1):\n",
    "    for x in range(mx+1):\n",
    "        if (x,y) in dots:\n",
    "            print('#', end='')\n",
    "        else:\n",
    "            print('.', end='')\n",
    "    print('\\n')"
   ]
  },
  {
   "cell_type": "code",
   "execution_count": 10,
   "id": "contrary-commission",
   "metadata": {},
   "outputs": [
    {
     "name": "stdout",
     "output_type": "stream",
     "text": [
      "#.##..#..#.\n",
      "\n",
      "#...#......\n",
      "\n",
      "......#...#\n",
      "\n",
      "#...#......\n",
      "\n",
      ".#.#..#.###\n",
      "\n",
      "...........\n",
      "\n",
      "...........\n",
      "\n"
     ]
    }
   ],
   "source": [
    "dots, mx, my = fold(dots, folds[0])\n",
    "\n",
    "\n",
    "for coord in dots:\n",
    "    if coord[0] > mx:\n",
    "        mx = coord[0]\n",
    "    if coord[1] > my:\n",
    "        my = coord[1]\n",
    "\n",
    "for y in range(my):\n",
    "    for x in range(mx+1):\n",
    "        if (x,y) in dots:\n",
    "            print('#', end='')\n",
    "        else:\n",
    "            print('.', end='')\n",
    "    print('\\n')"
   ]
  },
  {
   "cell_type": "code",
   "execution_count": 11,
   "id": "qualified-merchandise",
   "metadata": {},
   "outputs": [
    {
     "name": "stdout",
     "output_type": "stream",
     "text": [
      "# # # # # \n",
      "\n",
      "# . . . # \n",
      "\n",
      "# . . . # \n",
      "\n",
      "# . . . # \n",
      "\n",
      "# # # # # \n",
      "\n",
      ". . . . . \n",
      "\n",
      ". . . . . \n",
      "\n"
     ]
    }
   ],
   "source": [
    "dots = set()\n",
    "folds = []\n",
    "\n",
    "for line in open('test.txt').read().splitlines():\n",
    "    if line.split(' ')[0] == 'fold':\n",
    "        folds.append((line.split(' ')[2].split('=')[0], int(line.split(' ')[2].split('=')[1]))) \n",
    "    elif line == '':\n",
    "        continue\n",
    "    else:\n",
    "        dots.add(tuple(map(int,line.split(','))))\n",
    " \n",
    "draw(dots,folds)"
   ]
  },
  {
   "cell_type": "code",
   "execution_count": null,
   "id": "economic-wayne",
   "metadata": {},
   "outputs": [],
   "source": []
  }
 ],
 "metadata": {
  "kernelspec": {
   "display_name": "Python 3",
   "language": "python",
   "name": "python3"
  },
  "language_info": {
   "codemirror_mode": {
    "name": "ipython",
    "version": 3
   },
   "file_extension": ".py",
   "mimetype": "text/x-python",
   "name": "python",
   "nbconvert_exporter": "python",
   "pygments_lexer": "ipython3",
   "version": "3.9.1"
  }
 },
 "nbformat": 4,
 "nbformat_minor": 5
}
