{
 "cells": [
  {
   "cell_type": "markdown",
   "id": "c288730b",
   "metadata": {},
   "source": [
    "# Part 1"
   ]
  },
  {
   "cell_type": "code",
   "execution_count": 1,
   "id": "41ce4f13",
   "metadata": {},
   "outputs": [
    {
     "name": "stdout",
     "output_type": "stream",
     "text": [
      "defaultdict(<class 'list'>, {'zi': ['end', 'zk', 'ws', 'XR'], 'end': ['zi', 'po', 'zk'], 'XR': ['start', 'zi', 'zk', 'zw', 'vl', 'ws'], 'start': ['XR', 'zw', 'vl'], 'zk': ['zi', 'TS', 'zw', 'end', 'XR'], 'TS': ['zk', 'ws', 'po', 'vl'], 'zw': ['vl', 'zk', 'ws', 'start', 'XR'], 'vl': ['zw', 'TS', 'start', 'XR'], 'po': ['end', 'TS', 'YH', 'xk'], 'ws': ['zw', 'TS', 'zi', 'XR'], 'YH': ['po'], 'xk': ['po']})\n"
     ]
    }
   ],
   "source": [
    "from collections import defaultdict\n",
    "neighbours = defaultdict(list)\n",
    "\n",
    "for line in open('data.txt'):\n",
    "    a, b = line.strip().split('-')\n",
    "    neighbours[a] += [b]\n",
    "    neighbours[b] += [a]\n",
    "\n",
    "print(neighbours)"
   ]
  },
  {
   "cell_type": "code",
   "execution_count": 2,
   "id": "75587895",
   "metadata": {},
   "outputs": [],
   "source": [
    "def all_paths(lst):\n",
    "    \n",
    "    count = 0\n",
    "    paths = []\n",
    "    stack = [('start', ['start'])]\n",
    "    \n",
    "    while stack:\n",
    "        cave, path = stack.pop()\n",
    "        for end in lst[cave]:\n",
    "            if end == 'end':\n",
    "                count += 1\n",
    "                paths.append(path + [end])\n",
    "                continue \n",
    "            if end.islower() and (end not in path):\n",
    "                new_path = path.copy()\n",
    "                new_path.append(end)\n",
    "                stack.append((end, new_path))\n",
    "            if end.isupper():\n",
    "                new_path = path.copy()\n",
    "                new_path.append(end)\n",
    "                stack.append((end, new_path))\n",
    "                \n",
    "    return count #, paths\n",
    "           "
   ]
  },
  {
   "cell_type": "code",
   "execution_count": 3,
   "id": "98dc0b22",
   "metadata": {},
   "outputs": [
    {
     "data": {
      "text/plain": [
       "3761"
      ]
     },
     "execution_count": 3,
     "metadata": {},
     "output_type": "execute_result"
    }
   ],
   "source": [
    "all_paths(neighbours)"
   ]
  },
  {
   "cell_type": "markdown",
   "id": "4c0cad20",
   "metadata": {},
   "source": [
    "# Part 2"
   ]
  },
  {
   "cell_type": "code",
   "execution_count": 4,
   "id": "pacific-hudson",
   "metadata": {},
   "outputs": [
    {
     "name": "stdout",
     "output_type": "stream",
     "text": [
      "defaultdict(<class 'list'>, {'zi': ['end', 'zk', 'ws', 'XR'], 'end': ['zi', 'po', 'zk'], 'XR': ['start', 'zi', 'zk', 'zw', 'vl', 'ws'], 'start': ['XR', 'zw', 'vl'], 'zk': ['zi', 'TS', 'zw', 'end', 'XR'], 'TS': ['zk', 'ws', 'po', 'vl'], 'zw': ['vl', 'zk', 'ws', 'start', 'XR'], 'vl': ['zw', 'TS', 'start', 'XR'], 'po': ['end', 'TS', 'YH', 'xk'], 'ws': ['zw', 'TS', 'zi', 'XR'], 'YH': ['po'], 'xk': ['po']})\n"
     ]
    }
   ],
   "source": [
    "from collections import defaultdict\n",
    "neighbours = defaultdict(list)\n",
    "\n",
    "for line in open('data.txt'):\n",
    "    a, b = line.strip().split('-')\n",
    "    neighbours[a] += [b]\n",
    "    neighbours[b] += [a]\n",
    "\n",
    "print(neighbours)"
   ]
  },
  {
   "cell_type": "code",
   "execution_count": 5,
   "id": "c0703e17",
   "metadata": {},
   "outputs": [],
   "source": [
    "from collections import Counter\n",
    "def all_paths2(lst):\n",
    "    \n",
    "    count = 0\n",
    "    paths = []\n",
    "    stack = [('start', ['start'], False)]\n",
    "    \n",
    "    while stack:\n",
    "        cave, path, twice = stack.pop()\n",
    "        for end in lst[cave]:\n",
    "            if end == 'end':\n",
    "                count += 1\n",
    "                paths.append(path + [end])\n",
    "                continue \n",
    "            if end.islower() and (end not in path):\n",
    "                new_path = path.copy()\n",
    "                new_path.append(end)\n",
    "                stack.append((end, new_path, twice))\n",
    "            if end.islower() and (end in path) and (not twice) and (end != 'start'):\n",
    "                new_path = path.copy()\n",
    "                new_path.append(end)\n",
    "                stack.append((end, new_path, True))\n",
    "            if end.isupper():\n",
    "                new_path = path.copy()\n",
    "                new_path.append(end)\n",
    "                stack.append((end, new_path, twice))\n",
    "                \n",
    "    return count #, paths\n",
    "           "
   ]
  },
  {
   "cell_type": "code",
   "execution_count": 6,
   "id": "c4db5546",
   "metadata": {},
   "outputs": [
    {
     "data": {
      "text/plain": [
       "99138"
      ]
     },
     "execution_count": 6,
     "metadata": {},
     "output_type": "execute_result"
    }
   ],
   "source": [
    "all_paths2(neighbours)"
   ]
  },
  {
   "cell_type": "markdown",
   "id": "014a0ae8",
   "metadata": {},
   "source": [
    "# Testing/Working out"
   ]
  },
  {
   "cell_type": "code",
   "execution_count": 7,
   "id": "d4055da1",
   "metadata": {},
   "outputs": [
    {
     "name": "stdout",
     "output_type": "stream",
     "text": [
      "defaultdict(<class 'list'>, {'start': ['A', 'b'], 'A': ['start', 'c', 'b', 'end'], 'b': ['start', 'A', 'd', 'end'], 'c': ['A'], 'd': ['b'], 'end': ['A', 'b']})\n"
     ]
    }
   ],
   "source": [
    "from collections import defaultdict\n",
    "neighbours = defaultdict(list)\n",
    "\n",
    "for line in open('test.txt'):\n",
    "    a, b = line.strip().split('-')\n",
    "    neighbours[a] += [b]\n",
    "    neighbours[b] += [a]\n",
    "\n",
    "print(neighbours)"
   ]
  },
  {
   "cell_type": "code",
   "execution_count": 8,
   "id": "18f9fb6d",
   "metadata": {},
   "outputs": [
    {
     "data": {
      "text/plain": [
       "10"
      ]
     },
     "execution_count": 8,
     "metadata": {},
     "output_type": "execute_result"
    }
   ],
   "source": [
    "all_paths(neighbours)"
   ]
  },
  {
   "cell_type": "code",
   "execution_count": 9,
   "id": "f88329f5",
   "metadata": {},
   "outputs": [
    {
     "data": {
      "text/plain": [
       "36"
      ]
     },
     "execution_count": 9,
     "metadata": {},
     "output_type": "execute_result"
    }
   ],
   "source": [
    "all_paths2(neighbours)"
   ]
  },
  {
   "cell_type": "code",
   "execution_count": null,
   "id": "b4bceccc",
   "metadata": {},
   "outputs": [],
   "source": []
  }
 ],
 "metadata": {
  "kernelspec": {
   "display_name": "Python 3",
   "language": "python",
   "name": "python3"
  },
  "language_info": {
   "codemirror_mode": {
    "name": "ipython",
    "version": 3
   },
   "file_extension": ".py",
   "mimetype": "text/x-python",
   "name": "python",
   "nbconvert_exporter": "python",
   "pygments_lexer": "ipython3",
   "version": "3.9.1"
  }
 },
 "nbformat": 4,
 "nbformat_minor": 5
}
