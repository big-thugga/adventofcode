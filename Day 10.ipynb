{
 "cells": [
  {
   "cell_type": "code",
   "execution_count": 25,
   "id": "7b8885a3",
   "metadata": {},
   "outputs": [
    {
     "name": "stdout",
     "output_type": "stream",
     "text": [
      "['{', '{', '[', '<', '[', '{', '(', '{', '<', '[', '{', '(', '<', '[', '<', '>', '{', '}', ']', '(', '{', '}', '[', ']', ')', '>', ')', '(', '{', '<', '(', ')', '<', '>', '>', '(', '<', '>', '[', ']', ')', '}', '[', '[', '(', ')', '<', '>', ']', '{', '<', '>', '[', ']', '}', ']', ')', '}', '[', '{', '{', '(', '{', '}', '<', '>', ')', '[', '(', ')', '{', '}', ']', '}', '{', '{', '<', '>', '[', ']', '}', '(', '<', '>', '<', '>', ')', '}', '}', '<', '{', '[', '<', '>', '{', '}', ']', '{', '[', ']', '<', '>', '}', '}', '>', ']', ']', '>', '[']\n",
      "109\n"
     ]
    }
   ],
   "source": [
    "with open(\"data.txt\") as file:\n",
    "    data = file.read().splitlines()\n",
    "    \n",
    "for i in range(len(data)):\n",
    "    data[i] = list(data[i])\n",
    "    \n",
    "print(data[0])\n",
    "print(len(data[0]))"
   ]
  },
  {
   "cell_type": "markdown",
   "id": "e108d442",
   "metadata": {},
   "source": [
    "# Part 1"
   ]
  },
  {
   "cell_type": "code",
   "execution_count": 45,
   "id": "54085f65",
   "metadata": {},
   "outputs": [],
   "source": [
    "def reduce(lst):\n",
    "    for i in range(len(lst)-1):\n",
    "        if (lst[i]==\"(\" and lst[i+1]==\")\") or (lst[i]==\"[\" and lst[i+1]==\"]\") or (lst[i]==\"{\" and lst[i+1]==\"}\") or (lst[i]==\"<\" and lst[i+1]==\">\"):\n",
    "            lst.pop(i)\n",
    "            lst.pop(i+1)\n",
    "    return lst"
   ]
  },
  {
   "cell_type": "code",
   "execution_count": 46,
   "id": "6c468437",
   "metadata": {},
   "outputs": [
    {
     "name": "stdout",
     "output_type": "stream",
     "text": [
      "['{', '{', '[', '<', '[', '{', '(', '{', '<', '[', '{', '(', '<', '[', '>', '}', ']', '(', '}', ']', ')', '>', ')', '(', '{', '<', ')', '>', '>', '(', '>', ']', ')', '}', '[', '[', ')', '>', ']', '{', '>', ']', '}', ']', ')', '}', '[', '{', '{', '(', '}', '>', ')', '[', ')', '}', ']', '}', '{', '{', '>', ']', '}', '(', '>', '>', ')', '}', '}', '<', '{', '[', '>', '}', ']', '{', ']', '>', '}', '}', '>', ']', ']', '>', '[']\n",
      "85\n"
     ]
    }
   ],
   "source": [
    "print(reduce(data[0]))\n",
    "print(len(reduce(data[0])))"
   ]
  },
  {
   "cell_type": "code",
   "execution_count": null,
   "id": "139dcc5b",
   "metadata": {},
   "outputs": [],
   "source": []
  }
 ],
 "metadata": {
  "kernelspec": {
   "display_name": "Python 3",
   "language": "python",
   "name": "python3"
  },
  "language_info": {
   "codemirror_mode": {
    "name": "ipython",
    "version": 3
   },
   "file_extension": ".py",
   "mimetype": "text/x-python",
   "name": "python",
   "nbconvert_exporter": "python",
   "pygments_lexer": "ipython3",
   "version": "3.9.2"
  }
 },
 "nbformat": 4,
 "nbformat_minor": 5
}
