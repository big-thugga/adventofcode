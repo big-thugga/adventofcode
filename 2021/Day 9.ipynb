{
 "cells": [
  {
   "cell_type": "code",
   "execution_count": 53,
   "id": "30366cba",
   "metadata": {},
   "outputs": [
    {
     "name": "stdout",
     "output_type": "stream",
     "text": [
      "   0   1   2   3   4   5   6   7   8   9   ...  90  91  92  93  94  95  96  \\\n",
      "0   9   7   5   6   7   8   9   5   4   5  ...   5   4   3   5   6   9   7   \n",
      "1   6   5   4   5   8   9   8   9   5   9  ...   9   8   5   6   7   8   9   \n",
      "2   5   4   3   4   5   6   7   8   9   9  ...   8   7   6   7   8   9   9   \n",
      "3   6   5   4   5   6   7   8   9   3   2  ...   9   8   7   8   9   7   8   \n",
      "4   7   6   5   7   7   8   9   7   9   3  ...   3   9   8   9   5   6   7   \n",
      "\n",
      "   97  98  99  \n",
      "0   6   5   4  \n",
      "1   5   4   3  \n",
      "2   4   3   2  \n",
      "3   9   2   1  \n",
      "4   8   9   2  \n",
      "\n",
      "[5 rows x 100 columns]\n"
     ]
    }
   ],
   "source": [
    "import pandas as pd\n",
    "\n",
    "with open(\"data.txt\") as file:\n",
    "    data = file.read().splitlines()\n",
    "\n",
    "for i in range(len(data)):\n",
    "    data[i] = list(map(int,data[i]))\n",
    "\n",
    "data = pd.DataFrame(data)\n",
    "print(data.head())"
   ]
  },
  {
   "cell_type": "markdown",
   "id": "ced0389e",
   "metadata": {},
   "source": [
    "# Part 1"
   ]
  },
  {
   "cell_type": "code",
   "execution_count": 54,
   "id": "ace74195",
   "metadata": {},
   "outputs": [],
   "source": [
    "def risk(df):\n",
    "    \"A function that finds all the low points, and the sums the risk.\"\n",
    "\n",
    "    total_risk = 0\n",
    "    low_points = set()\n",
    "    \n",
    "    for r in range(df.shape[0]):\n",
    "        if r == 0:\n",
    "            for c in range(df.shape[1]):\n",
    "                if c == 0:\n",
    "                    if (df.iloc[r][c] < df.iloc[r][c+1]) & (df.iloc[r][c] < df.iloc[r+1][c]):\n",
    "                        low_points.add((r,c))\n",
    "                        total_risk += df.iloc[r][c] + 1\n",
    "                elif c == (df.shape[1]-1):\n",
    "                    if (df.iloc[r][c] < df.iloc[r][c-1]) & (df.iloc[r][c] < df.iloc[r+1][c]): \n",
    "                        low_points.add((r,c))\n",
    "                        total_risk += df.iloc[r][c] + 1                \n",
    "                else:\n",
    "                    if (df.iloc[r][c] < df.iloc[r][c-1]) & (df.iloc[r][c] < df.iloc[r][c+1]) & (df.iloc[r][c] < df.iloc[r+1][c]):\n",
    "                        low_points.add((r,c))\n",
    "                        total_risk += df.iloc[r][c] + 1                \n",
    "        elif r == (df.shape[0] - 1):\n",
    "            for c in range(df.shape[1]):\n",
    "                if c == 0:\n",
    "                    if (df.iloc[r][c] < df.iloc[r][c+1]) & (df.iloc[r][c] < df.iloc[r-1][c]): \n",
    "                        low_points.add((r,c))\n",
    "                        total_risk += df.iloc[r][c] + 1\n",
    "                elif c == (df.shape[1]-1):\n",
    "                    if (df.iloc[r][c] < df.iloc[r][c-1]) & (df.iloc[r][c] < df.iloc[r-1][c]): \n",
    "                        low_points.add((r,c))\n",
    "                        total_risk += df.iloc[r][c] + 1                \n",
    "                else:\n",
    "                    if (df.iloc[r][c] < df.iloc[r][c-1]) & (df.iloc[r][c] < df.iloc[r][c+1]) & (df.iloc[r][c] < df.iloc[r-1][c]):\n",
    "                        low_points.add((r,c))\n",
    "                        total_risk += df.iloc[r][c] + 1        \n",
    "        else:\n",
    "            for c in range(df.shape[1]):\n",
    "                if c == 0:\n",
    "                    if (df.iloc[r][c] < df.iloc[r][c+1]) & (df.iloc[r][c] < df.iloc[r-1][c]) & (df.iloc[r][c] < df.iloc[r+1][c]): \n",
    "                        low_points.add((r,c))\n",
    "                        total_risk += df.iloc[r][c] + 1\n",
    "                elif c == (df.shape[1]-1):\n",
    "                    if (df.iloc[r][c] < df.iloc[r][c-1]) & (df.iloc[r][c] < df.iloc[r-1][c]) & (df.iloc[r][c] < df.iloc[r+1][c]):\n",
    "                        low_points.add((r,c))\n",
    "                        total_risk += df.iloc[r][c] + 1\n",
    "                else:\n",
    "                    if (df.iloc[r][c] < df.iloc[r][c-1]) & (df.iloc[r][c] < df.iloc[r][c+1]) & (df.iloc[r][c] < df.iloc[r-1][c]) & (df.iloc[r][c] < df.iloc[r+1][c]):\n",
    "                        low_points.add((r,c))\n",
    "                        total_risk += df.iloc[r][c] + 1\n",
    "        \n",
    "    return total_risk, low_points"
   ]
  },
  {
   "cell_type": "code",
   "execution_count": 55,
   "id": "68760b1c",
   "metadata": {},
   "outputs": [
    {
     "data": {
      "text/plain": [
       "560"
      ]
     },
     "execution_count": 55,
     "metadata": {},
     "output_type": "execute_result"
    }
   ],
   "source": [
    "risk(data)[0]"
   ]
  },
  {
   "cell_type": "markdown",
   "id": "6625ed82",
   "metadata": {},
   "source": [
    "# Part 2"
   ]
  },
  {
   "cell_type": "code",
   "execution_count": 56,
   "id": "e13a5edb",
   "metadata": {},
   "outputs": [],
   "source": [
    "def neighbours(c, m):\n",
    "    '''Function that finds the neighbours/adjacents of a coordinate.'''\n",
    "    mx, my = m\n",
    "    cx, cy = c\n",
    "    \n",
    "    adjacents = []\n",
    "    \n",
    "    if cx > 0:\n",
    "        adjacents.append((cx-1, cy))\n",
    "    if cx < mx:\n",
    "        adjacents.append((cx+1, cy))\n",
    "    if cy > 0:\n",
    "        adjacents.append((cx, cy-1))\n",
    "    if cy < my:\n",
    "        adjacents.append((cx, cy+1))\n",
    "        \n",
    "    return adjacents\n",
    "\n",
    "        "
   ]
  },
  {
   "cell_type": "code",
   "execution_count": 57,
   "id": "73da1c4a",
   "metadata": {},
   "outputs": [],
   "source": [
    "def basin_size(c, m, df):\n",
    "    'Finds the basin size given the low point.'\n",
    "    searched = set()\n",
    "    to_search = [c]\n",
    "    while len(to_search) != 0:\n",
    "        n = to_search.pop(0)\n",
    "        searched.add(n)\n",
    "        for adj in neighbours(n, m):\n",
    "            if (adj not in searched) and (df.iloc[adj[0]][adj[1]] != 9):\n",
    "                to_search.append(adj)\n",
    "    return len(searched)\n",
    "                \n",
    "                \n"
   ]
  },
  {
   "cell_type": "code",
   "execution_count": 58,
   "id": "c5cb93a7",
   "metadata": {},
   "outputs": [
    {
     "name": "stdout",
     "output_type": "stream",
     "text": [
      "959136\n"
     ]
    }
   ],
   "source": [
    "basin_sizes = []\n",
    "for point in risk(data)[1]:\n",
    "    basin_sizes.append(basin_size(point, tuple(x-1 for x in data.shape), data))\n",
    "\n",
    "\n",
    "print((lambda x: x[-3] * x[-2] * x[-1])(sorted(basin_sizes)))"
   ]
  },
  {
   "cell_type": "markdown",
   "id": "46837a2e",
   "metadata": {},
   "source": [
    "# Test/Working out"
   ]
  },
  {
   "cell_type": "code",
   "execution_count": 59,
   "id": "aa1bfe69",
   "metadata": {},
   "outputs": [
    {
     "name": "stdout",
     "output_type": "stream",
     "text": [
      "   0  1  2  3  4  5  6  7  8  9\n",
      "0  2  1  9  9  9  4  3  2  1  0\n",
      "1  3  9  8  7  8  9  4  9  2  1\n",
      "2  9  8  5  6  7  8  9  8  9  2\n",
      "3  8  7  6  7  8  9  6  7  8  9\n",
      "4  9  8  9  9  9  6  5  6  7  8\n"
     ]
    }
   ],
   "source": [
    "import pandas as pd\n",
    "\n",
    "with open(\"test.txt\") as file:\n",
    "    data = file.read().splitlines()\n",
    "\n",
    "for i in range(len(data)):\n",
    "    data[i] = list(map(int,data[i]))\n",
    "\n",
    "data = pd.DataFrame(data)\n",
    "print(data)\n",
    "\n"
   ]
  },
  {
   "cell_type": "code",
   "execution_count": 61,
   "id": "3f7487f1",
   "metadata": {},
   "outputs": [
    {
     "name": "stdout",
     "output_type": "stream",
     "text": [
      "[3, 9, 9, 14]\n"
     ]
    }
   ],
   "source": [
    "basin_sizes = []\n",
    "for point in risk(data)[1]:\n",
    "    basin_sizes.append(basin_size(point, tuple(x-1 for x in data.shape), data))\n",
    "\n",
    "print(basin_sizes)\n",
    "\n"
   ]
  },
  {
   "cell_type": "code",
   "execution_count": null,
   "id": "93e611e8",
   "metadata": {},
   "outputs": [],
   "source": []
  }
 ],
 "metadata": {
  "kernelspec": {
   "display_name": "Python 3",
   "language": "python",
   "name": "python3"
  },
  "language_info": {
   "codemirror_mode": {
    "name": "ipython",
    "version": 3
   },
   "file_extension": ".py",
   "mimetype": "text/x-python",
   "name": "python",
   "nbconvert_exporter": "python",
   "pygments_lexer": "ipython3",
   "version": "3.9.2"
  }
 },
 "nbformat": 4,
 "nbformat_minor": 5
}
