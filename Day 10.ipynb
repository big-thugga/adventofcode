{
 "cells": [
  {
   "cell_type": "code",
   "execution_count": 320,
   "id": "7b8885a3",
   "metadata": {},
   "outputs": [
    {
     "name": "stdout",
     "output_type": "stream",
     "text": [
      "['{', '{', '[', '<', '[', '{', '(', '{', '<', '[', '{', '(', '<', '[', '<', '>', '{', '}', ']', '(', '{', '}', '[', ']', ')', '>', ')', '(', '{', '<', '(', ')', '<', '>', '>', '(', '<', '>', '[', ']', ')', '}', '[', '[', '(', ')', '<', '>', ']', '{', '<', '>', '[', ']', '}', ']', ')', '}', '[', '{', '{', '(', '{', '}', '<', '>', ')', '[', '(', ')', '{', '}', ']', '}', '{', '{', '<', '>', '[', ']', '}', '(', '<', '>', '<', '>', ')', '}', '}', '<', '{', '[', '<', '>', '{', '}', ']', '{', '[', ']', '<', '>', '}', '}', '>', ']', ']', '>', '[']\n",
      "109\n"
     ]
    }
   ],
   "source": [
    "with open(\"data.txt\") as file:\n",
    "    data = file.read().splitlines()\n",
    "    \n",
    "for i in range(len(data)):\n",
    "    data[i] = list(data[i])\n",
    "    \n",
    "print(data[0])\n",
    "print(len(data[0]))"
   ]
  },
  {
   "cell_type": "markdown",
   "id": "e108d442",
   "metadata": {},
   "source": [
    "# Part 1"
   ]
  },
  {
   "cell_type": "code",
   "execution_count": 75,
   "id": "81ffe4c4",
   "metadata": {},
   "outputs": [],
   "source": [
    "def opposite(bracket):\n",
    "    if bracket == '(':\n",
    "        return ')'\n",
    "    elif bracket == '[':\n",
    "        return ']'\n",
    "    elif bracket == '{':\n",
    "        return '}'\n",
    "    elif bracket == '<':\n",
    "        return '>'"
   ]
  },
  {
   "cell_type": "code",
   "execution_count": 216,
   "id": "54085f65",
   "metadata": {},
   "outputs": [],
   "source": [
    "def reduce(lst):\n",
    "    '''Takes in a line as a list, and reduces it.'''\n",
    "    stack = []\n",
    "    for bracket in lst:\n",
    "        stack.append(bracket)\n",
    "        if len(stack) < 2:\n",
    "            continue\n",
    "        else: \n",
    "            if stack[-1] == opposite(stack[-2]):\n",
    "                del stack[-2:]\n",
    "    \n",
    "    return stack"
   ]
  },
  {
   "cell_type": "code",
   "execution_count": 217,
   "id": "6c468437",
   "metadata": {},
   "outputs": [
    {
     "name": "stdout",
     "output_type": "stream",
     "text": [
      "['[', '(', '{', '(', '[', '[', '{', '{']\n"
     ]
    }
   ],
   "source": [
    "print(reduce(data[0]))\n"
   ]
  },
  {
   "cell_type": "code",
   "execution_count": 220,
   "id": "399f374f",
   "metadata": {},
   "outputs": [],
   "source": [
    "from collections import Counter \n",
    "def illegal(lst):\n",
    "    score = 0\n",
    "    for line in lst:\n",
    "        line = reduce(line)\n",
    "        for entry in line:\n",
    "            if entry == ')':\n",
    "                score += 3\n",
    "                break\n",
    "            elif entry == ']':\n",
    "                score += 57\n",
    "                break\n",
    "            elif entry == '}':\n",
    "                score += 1197\n",
    "                break\n",
    "            elif entry == '>':\n",
    "                score += 25137\n",
    "                break\n",
    "    return score"
   ]
  },
  {
   "cell_type": "code",
   "execution_count": 221,
   "id": "139dcc5b",
   "metadata": {},
   "outputs": [
    {
     "data": {
      "text/plain": [
       "26397"
      ]
     },
     "execution_count": 221,
     "metadata": {},
     "output_type": "execute_result"
    }
   ],
   "source": [
    "illegal(data)"
   ]
  },
  {
   "cell_type": "markdown",
   "id": "3ed410df",
   "metadata": {},
   "source": [
    "# Part 2"
   ]
  },
  {
   "cell_type": "code",
   "execution_count": 321,
   "id": "c7ed644f",
   "metadata": {},
   "outputs": [],
   "source": [
    "import statistics\n",
    "\n",
    "def incomplete(lst):\n",
    "     \n",
    "    tmp = []\n",
    "    for line in lst:\n",
    "        if (\")\" not in reduce(line)) and (\"]\" not in reduce(line)) and (\"}\" not in reduce(line)) and (\">\" not in reduce(line)):\n",
    "            tmp.append(line)\n",
    "\n",
    "    scores = []\n",
    "    for line in tmp:\n",
    "        score = 0\n",
    "        for bracket in reduce(line)[::-1]:\n",
    "            if bracket == \"(\":\n",
    "                score = score*5 + 1\n",
    "            elif bracket == \"[\":\n",
    "                score = score*5 + 2\n",
    "            elif bracket == \"{\":\n",
    "                score = score*5 + 3\n",
    "            elif bracket == \"<\":\n",
    "                score = score*5 + 4\n",
    "        scores.append(score)\n",
    "    \n",
    "    return statistics.median(scores)\n",
    "\n"
   ]
  },
  {
   "cell_type": "code",
   "execution_count": 322,
   "id": "90d2e056",
   "metadata": {},
   "outputs": [
    {
     "data": {
      "text/plain": [
       "3646451424"
      ]
     },
     "execution_count": 322,
     "metadata": {},
     "output_type": "execute_result"
    }
   ],
   "source": [
    "incomplete(data)\n"
   ]
  },
  {
   "cell_type": "markdown",
   "id": "48fdabd4",
   "metadata": {},
   "source": [
    "# Test/Working out"
   ]
  },
  {
   "cell_type": "code",
   "execution_count": 305,
   "id": "229a32d7",
   "metadata": {},
   "outputs": [
    {
     "name": "stdout",
     "output_type": "stream",
     "text": [
      "10\n"
     ]
    }
   ],
   "source": [
    "with open(\"test.txt\") as file:\n",
    "    data = file.read().splitlines()\n",
    "    \n",
    "for i in range(len(data)):\n",
    "    data[i] = list(data[i])\n",
    "\n",
    "print(len(data))"
   ]
  },
  {
   "cell_type": "code",
   "execution_count": 243,
   "id": "2d10bf47",
   "metadata": {},
   "outputs": [
    {
     "data": {
      "text/plain": [
       "['{', '(', '[', '(', '<', '[', '}', '>', '{', '{', '[', '(']"
      ]
     },
     "execution_count": 243,
     "metadata": {},
     "output_type": "execute_result"
    }
   ],
   "source": [
    "reduce(data[2]) "
   ]
  },
  {
   "cell_type": "code",
   "execution_count": null,
   "id": "447626e8",
   "metadata": {},
   "outputs": [],
   "source": []
  }
 ],
 "metadata": {
  "kernelspec": {
   "display_name": "Python 3",
   "language": "python",
   "name": "python3"
  },
  "language_info": {
   "codemirror_mode": {
    "name": "ipython",
    "version": 3
   },
   "file_extension": ".py",
   "mimetype": "text/x-python",
   "name": "python",
   "nbconvert_exporter": "python",
   "pygments_lexer": "ipython3",
   "version": "3.9.2"
  }
 },
 "nbformat": 4,
 "nbformat_minor": 5
}
