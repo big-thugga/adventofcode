{
 "cells": [
  {
   "cell_type": "code",
   "execution_count": 1,
   "id": "3bc6525a",
   "metadata": {},
   "outputs": [
    {
     "name": "stdout",
     "output_type": "stream",
     "text": [
      "   0  1  2  3  4  5  6  7  8  9\n",
      "0  4  6  5  8  1  3  7  6  3  7\n",
      "1  3  2  7  7  8  7  4  3  5  5\n",
      "2  4  5  2  5  6  1  1  1  8  3\n",
      "3  3  1  2  8  1  2  5  8  8  8\n",
      "4  8  7  3  4  8  3  2  8  3  8\n",
      "5  4  1  7  5  4  6  3  2  5  7\n",
      "6  8  3  2  1  4  2  3  5  5  2\n",
      "7  4  8  3  2  1  4  5  2  5  3\n",
      "8  8  2  8  6  8  3  4  8  5  1\n",
      "9  4  8  8  5  3  2  3  1  3  8\n"
     ]
    }
   ],
   "source": [
    "import pandas as pd\n",
    "grid = {}\n",
    "df = []\n",
    "with open('data.txt') as file:\n",
    "    for x, line in enumerate(file):\n",
    "        df.append(list(line.strip(\"\\n\")))\n",
    "        for y, c in enumerate(line.strip()):\n",
    "            grid[(x,y)] = int(c)\n",
    "\n",
    "print(pd.DataFrame(df))"
   ]
  },
  {
   "cell_type": "markdown",
   "id": "8636f014",
   "metadata": {},
   "source": [
    "# Part 1"
   ]
  },
  {
   "cell_type": "code",
   "execution_count": 2,
   "id": "28745c5e",
   "metadata": {},
   "outputs": [],
   "source": [
    "def neighbours(coord, grid): \n",
    "    '''Find the neighbours of a point. (Include diagonal adjacents)'''\n",
    "    x,y = coord\n",
    "    return list(filter(grid.get, [(x+1,y+1),(x+1,y),(x+1,y-1),(x,y+1),(x-1,y-1),(x-1,y),(x-1,y+1),(x,y-1)]))"
   ]
  },
  {
   "cell_type": "code",
   "execution_count": 3,
   "id": "c9ee8ad6",
   "metadata": {},
   "outputs": [],
   "source": [
    "def step(n, grid, count=0):\n",
    "    '''A function that defines what happens in n steps.'''\n",
    "\n",
    "    for i in range(n):\n",
    "        for coord in grid:\n",
    "            grid[coord] += 1\n",
    "\n",
    "        to_flash = [coord for coord in grid if grid[coord] > 9]\n",
    "        flashed = []\n",
    "\n",
    "        while to_flash:\n",
    "            coord = to_flash.pop()\n",
    "            grid[coord] = 0\n",
    "            flashed.append(coord)\n",
    "            count += 1\n",
    "            for neighbour in neighbours(coord, grid):\n",
    "                if neighbour in flashed:\n",
    "                    break\n",
    "                else:\n",
    "                    grid[neighbour] += 1\n",
    "                    if grid[neighbour] == 10: # Since flashes only occur once per step when it hits 10 and \n",
    "                        # this neighbour can have a number greater than 10 if it doesn't get flashed and is\n",
    "                        # a neighbour to other flashed points.\n",
    "                        to_flash.append(neighbour)\n",
    "    \n",
    "    return count"
   ]
  },
  {
   "cell_type": "code",
   "execution_count": 4,
   "id": "e41763c8",
   "metadata": {},
   "outputs": [
    {
     "name": "stdout",
     "output_type": "stream",
     "text": [
      "1686\n",
      "   0  1  2  3  4  5  6  7  8  9\n",
      "0  9  4  4  4  5  7  0  0  9  7\n",
      "1  4  4  4  5  7  0  0  0  0  9\n",
      "2  4  4  4  6  0  0  0  8  0  0\n",
      "3  4  4  4  7  0  0  7  5  7  0\n",
      "4  4  4  4  7  0  0  8  5  7  3\n",
      "5  4  4  4  7  3  3  2  1  9  3\n",
      "6  4  4  4  7  6  1  1  1  1  4\n",
      "7  5  5  4  6  5  1  1  1  1  4\n",
      "8  1  7  5  5  7  1  1  1  5  3\n",
      "9  1  1  5  4  5  7  1  5  3  2\n"
     ]
    }
   ],
   "source": [
    "grid = {}\n",
    "with open('data.txt') as file:\n",
    "    for x, line in enumerate(file):\n",
    "        for y, c in enumerate(line.strip()):\n",
    "            grid[(x,y)] = int(c)\n",
    "\n",
    "\n",
    "print(step(100, grid))\n",
    "\n",
    "mx, my = x, y\n",
    "df = []\n",
    "for i in range(mx+1):\n",
    "    tmp = []\n",
    "    for j in range(my+1):\n",
    "        tmp.append(grid[(i,j)])\n",
    "    df.append(tmp)\n",
    "\n",
    "print(pd.DataFrame(df))"
   ]
  },
  {
   "cell_type": "markdown",
   "id": "64bc3e0c",
   "metadata": {},
   "source": [
    "# Part 2"
   ]
  },
  {
   "cell_type": "code",
   "execution_count": 5,
   "id": "1e7f1a9f",
   "metadata": {},
   "outputs": [],
   "source": [
    "def sync(grid, count=0, n=0, flashed=[]):\n",
    "    '''Find the step number when all octopus flash.'''\n",
    "    while len(flashed) != len(grid):\n",
    "        n += 1\n",
    "        for coord in grid:\n",
    "            grid[coord] += 1\n",
    "\n",
    "        to_flash = [coord for coord in grid if grid[coord] > 9]\n",
    "        flashed = []\n",
    "\n",
    "        while to_flash:\n",
    "            coord = to_flash.pop()\n",
    "            grid[coord] = 0\n",
    "            flashed.append(coord)\n",
    "            count += 1\n",
    "            for neighbour in neighbours(coord, grid):\n",
    "                if neighbour in flashed:\n",
    "                    break\n",
    "                else:\n",
    "                    grid[neighbour] += 1\n",
    "                    if grid[neighbour] == 10: # Since flashes only occur once per step when it hits 10 and \n",
    "                        # this neighbour can have a number greater than 10 if it doesn't get flashed and is\n",
    "                        # a neighbour to other flashed points.\n",
    "                        to_flash.append(neighbour)\n",
    "    return n\n",
    "                        \n",
    "        "
   ]
  },
  {
   "cell_type": "code",
   "execution_count": 6,
   "id": "bafba312",
   "metadata": {},
   "outputs": [
    {
     "data": {
      "text/plain": [
       "360"
      ]
     },
     "execution_count": 6,
     "metadata": {},
     "output_type": "execute_result"
    }
   ],
   "source": [
    "grid = {}\n",
    "with open('data.txt') as file:\n",
    "    for x, line in enumerate(file):\n",
    "        for y, c in enumerate(line.strip()):\n",
    "            grid[(x,y)] = int(c)\n",
    "\n",
    "sync(grid)"
   ]
  },
  {
   "cell_type": "markdown",
   "id": "a6f5d99c",
   "metadata": {},
   "source": [
    "# Testing/Working out"
   ]
  },
  {
   "cell_type": "code",
   "execution_count": 7,
   "id": "c4563040",
   "metadata": {},
   "outputs": [
    {
     "name": "stdout",
     "output_type": "stream",
     "text": [
      "   0  1  2  3  4  5  6  7  8  9\n",
      "0  5  4  8  3  1  4  3  2  2  3\n",
      "1  2  7  4  5  8  5  4  7  1  1\n",
      "2  5  2  6  4  5  5  6  1  7  3\n",
      "3  6  1  4  1  3  3  6  1  4  6\n",
      "4  6  3  5  7  3  8  5  4  7  8\n",
      "5  4  1  6  7  5  2  4  6  4  5\n",
      "6  2  1  7  6  8  4  1  7  2  1\n",
      "7  6  8  8  2  8  8  1  1  3  4\n",
      "8  4  8  4  6  8  4  8  5  5  4\n",
      "9  5  2  8  3  7  5  1  5  2  6\n"
     ]
    }
   ],
   "source": [
    "import pandas as pd\n",
    "grid = {}\n",
    "df = []\n",
    "with open('test.txt') as file:\n",
    "    for x, line in enumerate(file):\n",
    "        df.append(list(line.strip(\"\\n\")))\n",
    "        for y, c in enumerate(line.strip()):\n",
    "            grid[(x,y)] = int(c)\n",
    "\n",
    "mx, my = x,y\n",
    "\n",
    "\n",
    "\n",
    "print(pd.DataFrame(df))"
   ]
  },
  {
   "cell_type": "code",
   "execution_count": 8,
   "id": "e8eb8fbf",
   "metadata": {},
   "outputs": [
    {
     "name": "stdout",
     "output_type": "stream",
     "text": [
      "1656\n",
      "   0  1  2  3  4  5  6  7  8  9\n",
      "0  0  3  9  7  6  6  6  8  6  6\n",
      "1  0  7  4  9  7  6  6  9  1  8\n",
      "2  0  0  5  3  9  7  6  9  3  3\n",
      "3  0  0  0  4  2  9  7  8  2  2\n",
      "4  0  0  0  4  2  2  9  8  9  2\n",
      "5  0  0  5  3  2  2  2  8  7  7\n",
      "6  0  5  3  2  2  2  2  9  6  6\n",
      "7  9  3  2  2  2  2  8  9  6  6\n",
      "8  7  9  2  2  2  8  6  8  6  6\n",
      "9  6  7  8  9  9  9  8  7  6  6\n"
     ]
    }
   ],
   "source": [
    "print(step(100, grid))\n",
    "\n",
    "df = []\n",
    "for i in range(mx+1):\n",
    "    tmp = []\n",
    "    for j in range(my+1):\n",
    "        tmp.append(grid[(i,j)])\n",
    "    df.append(tmp)\n",
    "\n",
    "print(pd.DataFrame(df))"
   ]
  },
  {
   "cell_type": "code",
   "execution_count": 9,
   "id": "c8bb97f0",
   "metadata": {},
   "outputs": [
    {
     "name": "stdout",
     "output_type": "stream",
     "text": [
      "95\n"
     ]
    }
   ],
   "source": [
    "print(sync(grid))"
   ]
  },
  {
   "cell_type": "code",
   "execution_count": null,
   "id": "b713894a",
   "metadata": {},
   "outputs": [],
   "source": []
  }
 ],
 "metadata": {
  "kernelspec": {
   "display_name": "Python 3",
   "language": "python",
   "name": "python3"
  },
  "language_info": {
   "codemirror_mode": {
    "name": "ipython",
    "version": 3
   },
   "file_extension": ".py",
   "mimetype": "text/x-python",
   "name": "python",
   "nbconvert_exporter": "python",
   "pygments_lexer": "ipython3",
   "version": "3.9.2"
  }
 },
 "nbformat": 4,
 "nbformat_minor": 5
}
