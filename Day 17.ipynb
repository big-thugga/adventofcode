{
 "cells": [
  {
   "cell_type": "markdown",
   "id": "81912b30",
   "metadata": {},
   "source": [
    "# Part 1"
   ]
  },
  {
   "cell_type": "code",
   "execution_count": 1,
   "id": "c3506a1c",
   "metadata": {},
   "outputs": [
    {
     "name": "stdout",
     "output_type": "stream",
     "text": [
      "(48, 70)\n",
      "(-189, -148)\n"
     ]
    }
   ],
   "source": [
    "target = open(\"data.txt\").read().split()[2:4]\n",
    "target = [x.split('..') for x in target]\n",
    "\n",
    "x_range = (int(target[0][0][2:]), int(target[0][1][:2]))\n",
    "y_range = (int(target[1][0][2:]), int(target[1][1]))\n",
    "\n",
    "print(x_range)\n",
    "print(y_range)"
   ]
  },
  {
   "cell_type": "code",
   "execution_count": 2,
   "id": "a2be0e22",
   "metadata": {},
   "outputs": [],
   "source": [
    "def hit(x_range, y_range, x_initial, y_initial):\n",
    "    xmin, xmax = x_range[0], x_range[1]\n",
    "    ymin, ymax = y_range[0], y_range[1]\n",
    "    \n",
    "    x, y = 0, 0\n",
    "    x_speed = x_initial\n",
    "    y_speed = y_initial\n",
    "    \n",
    "    past = []\n",
    "    i=0\n",
    "    \n",
    "    while (x <= xmax) and (y >= ymin):\n",
    "        past.append((x,y))\n",
    "        (x,y) = (x+x_speed, y+y_speed)\n",
    "        if x_speed != 0:\n",
    "            x_speed -= 1\n",
    "        y_speed -= 1\n",
    "\n",
    "    \n",
    "    if (past[-1][0] in range(xmin,xmax+1)) and (past[-1][1] in range(ymin, ymax+1)):\n",
    "        return True, max(past, key = lambda x: x[1])[1] \n",
    "    else:\n",
    "        return False"
   ]
  },
  {
   "cell_type": "code",
   "execution_count": 3,
   "id": "4b0840fc",
   "metadata": {},
   "outputs": [],
   "source": [
    "def highest(x_range, y_range):\n",
    "    xmin, xmax = x_range[0], x_range[1]\n",
    "    ymin, ymax = y_range[0], y_range[1]\n",
    "    possible = []\n",
    "    for x in range(1,xmax+1):\n",
    "        for y in range(ymin, 200):\n",
    "            if hit(x_range, y_range, x, y):\n",
    "                # print((x,y))\n",
    "                possible.append([(x,y),hit(x_range, y_range, x, y)])\n",
    "    \n",
    "    return max(possible, key = lambda x: x[1] )"
   ]
  },
  {
   "cell_type": "code",
   "execution_count": 4,
   "id": "2236b65c",
   "metadata": {},
   "outputs": [
    {
     "data": {
      "text/plain": [
       "[(10, 188), (True, 17766)]"
      ]
     },
     "execution_count": 4,
     "metadata": {},
     "output_type": "execute_result"
    }
   ],
   "source": [
    "highest(x_range, y_range)"
   ]
  },
  {
   "cell_type": "code",
   "execution_count": 5,
   "id": "f28126df",
   "metadata": {},
   "outputs": [],
   "source": [
    "def valid(x_range, y_range):\n",
    "    xmin, xmax = x_range[0], x_range[1]\n",
    "    ymin, ymax = y_range[0], y_range[1]\n",
    "    possible = []\n",
    "    for x in range(1,xmax+1):\n",
    "        for y in range(ymin, 200):\n",
    "            if hit(x_range, y_range, x, y):\n",
    "                # print((x,y))\n",
    "                possible.append([(x,y),hit(x_range, y_range, x, y)])\n",
    "    \n",
    "    return len(possible)"
   ]
  },
  {
   "cell_type": "code",
   "execution_count": 6,
   "id": "5cc6dd4e",
   "metadata": {},
   "outputs": [
    {
     "data": {
      "text/plain": [
       "1733"
      ]
     },
     "execution_count": 6,
     "metadata": {},
     "output_type": "execute_result"
    }
   ],
   "source": [
    "valid(x_range, y_range)"
   ]
  },
  {
   "cell_type": "markdown",
   "id": "7dfa9ffa",
   "metadata": {},
   "source": [
    "# Testing/Working out"
   ]
  },
  {
   "cell_type": "code",
   "execution_count": 7,
   "id": "e7c4454a",
   "metadata": {},
   "outputs": [
    {
     "name": "stdout",
     "output_type": "stream",
     "text": [
      "(20, 30)\n",
      "(-10, -5)\n"
     ]
    }
   ],
   "source": [
    "target = open(\"test.txt\").read().split()[2:4]\n",
    "target = [x.split('..') for x in target]\n",
    "\n",
    "x_range = (int(target[0][0][2:]), int(target[0][1][:2]))\n",
    "y_range = (int(target[1][0][2:]), int(target[1][1]))\n",
    "\n",
    "print(x_range)\n",
    "print(y_range)"
   ]
  },
  {
   "cell_type": "code",
   "execution_count": 8,
   "id": "8aad94bf",
   "metadata": {},
   "outputs": [
    {
     "data": {
      "text/plain": [
       "(True, 6)"
      ]
     },
     "execution_count": 8,
     "metadata": {},
     "output_type": "execute_result"
    }
   ],
   "source": [
    "hit(x_range, y_range, 6,3)"
   ]
  },
  {
   "cell_type": "code",
   "execution_count": 9,
   "id": "13148f57",
   "metadata": {},
   "outputs": [
    {
     "data": {
      "text/plain": [
       "[(6, 9), (True, 45)]"
      ]
     },
     "execution_count": 9,
     "metadata": {},
     "output_type": "execute_result"
    }
   ],
   "source": [
    "highest(x_range, y_range)"
   ]
  },
  {
   "cell_type": "code",
   "execution_count": null,
   "id": "93854e43",
   "metadata": {},
   "outputs": [],
   "source": []
  },
  {
   "cell_type": "code",
   "execution_count": null,
   "id": "00f00909",
   "metadata": {},
   "outputs": [],
   "source": []
  }
 ],
 "metadata": {
  "kernelspec": {
   "display_name": "Python 3",
   "language": "python",
   "name": "python3"
  },
  "language_info": {
   "codemirror_mode": {
    "name": "ipython",
    "version": 3
   },
   "file_extension": ".py",
   "mimetype": "text/x-python",
   "name": "python",
   "nbconvert_exporter": "python",
   "pygments_lexer": "ipython3",
   "version": "3.9.2"
  }
 },
 "nbformat": 4,
 "nbformat_minor": 5
}
