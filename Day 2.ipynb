{
 "cells": [
  {
   "cell_type": "markdown",
   "id": "checked-assembly",
   "metadata": {},
   "source": [
    "# Part 1"
   ]
  },
  {
   "cell_type": "code",
   "execution_count": 13,
   "id": "cloudy-greene",
   "metadata": {},
   "outputs": [
    {
     "name": "stdout",
     "output_type": "stream",
     "text": [
      "Horizontal = 1890 and Vertical = 1172\n",
      "Position = 2215080\n"
     ]
    }
   ],
   "source": [
    "with open('data.txt') as file:\n",
    "    text = file.read().splitlines()\n",
    "\n",
    "# print(text)\n",
    "\n",
    "vertical = 0\n",
    "horizontal = 0 \n",
    "\n",
    "for line in text:\n",
    "    # print(line)\n",
    "    direction = line.split(\" \")[0]\n",
    "    num = int(line.split(\" \")[1])\n",
    "    if direction == \"forward\":\n",
    "        horizontal += num\n",
    "    if direction == \"down\":\n",
    "        vertical += num\n",
    "    if direction == \"up\":\n",
    "        vertical -= num\n",
    "\n",
    "print(f\"Horizontal = {horizontal} and Vertical = {vertical}\")\n",
    "print(f\"Position = {horizontal*vertical}\")"
   ]
  },
  {
   "cell_type": "markdown",
   "id": "lovely-pavilion",
   "metadata": {},
   "source": [
    "# Part 2"
   ]
  },
  {
   "cell_type": "code",
   "execution_count": 17,
   "id": "copyrighted-miami",
   "metadata": {},
   "outputs": [
    {
     "name": "stdout",
     "output_type": "stream",
     "text": [
      "Horizontal = 1890 and Vertical = 986622\n",
      "Position = 1864715580\n"
     ]
    }
   ],
   "source": [
    "with open('data.txt') as file:\n",
    "    text = file.read().splitlines()\n",
    "\n",
    "# print(text)\n",
    "\n",
    "vertical = 0\n",
    "horizontal = 0 \n",
    "aim = 0 \n",
    "\n",
    "for line in text:\n",
    "    # print(line)\n",
    "    direction = line.split(\" \")[0]\n",
    "    num = int(line.split(\" \")[1])\n",
    "    if direction == \"down\":\n",
    "        aim += num\n",
    "    if direction == \"up\":\n",
    "        aim -= num\n",
    "    if direction == \"forward\":\n",
    "        horizontal += num\n",
    "        vertical += aim*num\n",
    "\n",
    "\n",
    "print(f\"Horizontal = {horizontal} and Vertical = {vertical}\")\n",
    "print(f\"Position = {horizontal*vertical}\")"
   ]
  },
  {
   "cell_type": "code",
   "execution_count": null,
   "id": "detected-morrison",
   "metadata": {},
   "outputs": [],
   "source": []
  }
 ],
 "metadata": {
  "kernelspec": {
   "display_name": "Python 3",
   "language": "python",
   "name": "python3"
  },
  "language_info": {
   "codemirror_mode": {
    "name": "ipython",
    "version": 3
   },
   "file_extension": ".py",
   "mimetype": "text/x-python",
   "name": "python",
   "nbconvert_exporter": "python",
   "pygments_lexer": "ipython3",
   "version": "3.9.1"
  }
 },
 "nbformat": 4,
 "nbformat_minor": 5
}
