{
 "cells": [
  {
   "cell_type": "markdown",
   "id": "7aa75d94",
   "metadata": {},
   "source": [
    "# Part 1"
   ]
  },
  {
   "cell_type": "code",
   "execution_count": 16,
   "id": "4ba29fc1",
   "metadata": {},
   "outputs": [
    {
     "name": "stdout",
     "output_type": "stream",
     "text": [
      "1934\n",
      "0\n"
     ]
    }
   ],
   "source": [
    "with open(\"data.txt\") as file:\n",
    "    positions = file.read().split(\",\")\n",
    "    positions = [int(item) for item in positions]\n",
    "    \n",
    "print(max(positions))\n",
    "print(min(positions))"
   ]
  },
  {
   "cell_type": "code",
   "execution_count": 17,
   "id": "52f3f521",
   "metadata": {},
   "outputs": [],
   "source": [
    "from collections import defaultdict\n",
    "def get_minimum1(positions):\n",
    "    fuel = defaultdict(int)\n",
    "    for i in range(max(positions)+1):\n",
    "        total_fuel = 0\n",
    "        for j in positions:\n",
    "            total_fuel += abs(i-j)\n",
    "        fuel[i] = total_fuel\n",
    "    return fuel\n",
    "        "
   ]
  },
  {
   "cell_type": "code",
   "execution_count": 18,
   "id": "6a59d713",
   "metadata": {},
   "outputs": [
    {
     "name": "stdout",
     "output_type": "stream",
     "text": [
      "330\n",
      "329389\n"
     ]
    }
   ],
   "source": [
    "minimum1 = get_minimum1(positions)\n",
    "\n",
    "# The position with minimum fuel\n",
    "print(min(minimum1, key=minimum1.get))\n",
    "\n",
    "# The minimum fuel\n",
    "print(minimum1[330])"
   ]
  },
  {
   "cell_type": "markdown",
   "id": "32d5f4ea",
   "metadata": {},
   "source": [
    "# Part 2"
   ]
  },
  {
   "cell_type": "code",
   "execution_count": 19,
   "id": "9cda4552",
   "metadata": {},
   "outputs": [
    {
     "data": {
      "text/plain": [
       "10"
      ]
     },
     "execution_count": 19,
     "metadata": {},
     "output_type": "execute_result"
    }
   ],
   "source": [
    "def crab_fuel(initial, final):\n",
    "    gap = abs(final - initial)\n",
    "    sum = 0\n",
    "    for i in range(1,gap+1):\n",
    "        sum += i\n",
    "    return sum\n",
    "\n",
    "crab_fuel(1,5)\n"
   ]
  },
  {
   "cell_type": "code",
   "execution_count": 20,
   "id": "de21ebca",
   "metadata": {},
   "outputs": [],
   "source": [
    "def get_minimum2(positions):\n",
    "    fuel = defaultdict(int)\n",
    "    for i in range(max(positions)+1):\n",
    "        total_fuel = 0\n",
    "        for j in positions:\n",
    "            total_fuel += crab_fuel(i, j)\n",
    "        fuel[i] = total_fuel\n",
    "    return fuel"
   ]
  },
  {
   "cell_type": "code",
   "execution_count": 21,
   "id": "0df56347",
   "metadata": {},
   "outputs": [],
   "source": [
    "minimum2 = get_minimum2(positions)\n"
   ]
  },
  {
   "cell_type": "code",
   "execution_count": 28,
   "id": "28689a9d",
   "metadata": {},
   "outputs": [
    {
     "name": "stdout",
     "output_type": "stream",
     "text": [
      "459\n",
      "86397080\n"
     ]
    }
   ],
   "source": [
    "# The position with minimum fuel\n",
    "print(min(minimum2, key=minimum2.get))\n",
    "\n",
    "# The minimum fuel\n",
    "print(minimum2[459])"
   ]
  },
  {
   "cell_type": "markdown",
   "id": "636de5d2",
   "metadata": {},
   "source": [
    "# Test/Working out"
   ]
  },
  {
   "cell_type": "code",
   "execution_count": 24,
   "id": "c5b7a5a4",
   "metadata": {},
   "outputs": [
    {
     "name": "stdout",
     "output_type": "stream",
     "text": [
      "defaultdict(<class 'int'>, {0: 49, 1: 41, 2: 37, 3: 39, 4: 41, 5: 45, 6: 49, 7: 53, 8: 59, 9: 65, 10: 71, 11: 77, 12: 83, 13: 89, 14: 95, 15: 103, 16: 111})\n"
     ]
    },
    {
     "data": {
      "text/plain": [
       "2"
      ]
     },
     "execution_count": 24,
     "metadata": {},
     "output_type": "execute_result"
    }
   ],
   "source": [
    "with open(\"test.txt\") as file:\n",
    "    positions = file.read().split(\",\")\n",
    "    positions = [int(item) for item in positions]\n",
    "\n",
    "\n",
    "print(get_minimum1(positions))\n",
    "min(get_minimum1(positions), key=get_minimum1(positions).get)"
   ]
  },
  {
   "cell_type": "code",
   "execution_count": 25,
   "id": "8d6712e0",
   "metadata": {},
   "outputs": [
    {
     "name": "stdout",
     "output_type": "stream",
     "text": [
      "defaultdict(<class 'int'>, {0: 290, 1: 242, 2: 206, 3: 183, 4: 170, 5: 168, 6: 176, 7: 194, 8: 223, 9: 262, 10: 311, 11: 370, 12: 439, 13: 518, 14: 607, 15: 707, 16: 817})\n",
      "5\n"
     ]
    }
   ],
   "source": [
    "print(get_minimum2(positions))\n",
    "print(min(get_minimum2(positions), key=get_minimum2(positions).get))"
   ]
  },
  {
   "cell_type": "code",
   "execution_count": null,
   "id": "5e173a5f",
   "metadata": {},
   "outputs": [],
   "source": []
  }
 ],
 "metadata": {
  "kernelspec": {
   "display_name": "Python 3",
   "language": "python",
   "name": "python3"
  },
  "language_info": {
   "codemirror_mode": {
    "name": "ipython",
    "version": 3
   },
   "file_extension": ".py",
   "mimetype": "text/x-python",
   "name": "python",
   "nbconvert_exporter": "python",
   "pygments_lexer": "ipython3",
   "version": "3.9.2"
  }
 },
 "nbformat": 4,
 "nbformat_minor": 5
}
