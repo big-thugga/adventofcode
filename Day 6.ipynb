{
 "cells": [
  {
   "cell_type": "code",
   "execution_count": 130,
   "id": "fb87dd5c",
   "metadata": {},
   "outputs": [
    {
     "name": "stdout",
     "output_type": "stream",
     "text": [
      "[2, 1, 2, 1, 5, 1, 5, 1, 2, 2, 1, 1, 5, 1, 4, 4, 4, 3, 1, 2, 2, 3, 4, 1, 1, 5, 1, 1, 4, 2, 5, 5, 5, 1, 1, 4, 5, 4, 1, 1, 4, 2, 1, 4, 1, 2, 2, 5, 1, 1, 5, 1, 1, 3, 4, 4, 1, 2, 3, 1, 5, 5, 4, 1, 4, 1, 2, 1, 5, 1, 1, 1, 3, 4, 1, 1, 5, 1, 5, 1, 1, 5, 1, 1, 4, 3, 2, 4, 1, 4, 1, 5, 3, 3, 1, 5, 1, 3, 1, 1, 4, 1, 4, 5, 2, 3, 1, 1, 1, 1, 3, 1, 2, 1, 5, 1, 1, 5, 1, 1, 1, 1, 4, 1, 4, 3, 1, 5, 1, 1, 5, 4, 4, 2, 1, 4, 5, 1, 1, 3, 3, 1, 1, 4, 2, 5, 5, 2, 4, 1, 4, 5, 4, 5, 3, 1, 4, 1, 5, 2, 4, 5, 3, 1, 3, 2, 4, 5, 4, 4, 1, 5, 1, 5, 1, 2, 2, 1, 4, 1, 1, 4, 2, 2, 2, 4, 1, 1, 5, 3, 1, 1, 5, 4, 4, 1, 5, 1, 3, 1, 3, 2, 2, 1, 1, 4, 1, 4, 1, 2, 2, 1, 1, 3, 5, 1, 2, 1, 3, 1, 4, 5, 1, 3, 4, 1, 1, 1, 1, 4, 3, 3, 4, 5, 1, 1, 1, 1, 1, 2, 4, 5, 3, 4, 2, 1, 1, 1, 3, 3, 1, 4, 1, 1, 4, 2, 1, 5, 1, 1, 2, 3, 4, 2, 5, 1, 1, 1, 5, 1, 1, 4, 1, 2, 4, 1, 1, 2, 4, 3, 4, 2, 3, 1, 1, 2, 1, 5, 4, 2, 3, 5, 1, 2, 3, 1, 2, 2, 1, 4]\n"
     ]
    }
   ],
   "source": [
    "with open(\"data.txt\") as file:\n",
    "    initial = file.read().split(\",\")\n",
    "    initial = [int(element) for element in initial]\n",
    "    \n",
    "print(initial)"
   ]
  },
  {
   "cell_type": "markdown",
   "id": "771e892a",
   "metadata": {},
   "source": [
    "# Part 1 attempt 1"
   ]
  },
  {
   "cell_type": "code",
   "execution_count": 7,
   "id": "f913cad1",
   "metadata": {},
   "outputs": [],
   "source": [
    "def growth1(initial, days):\n",
    "    \"\"\"Function that produces a list of the fishes after days of growth from an initial list.\"\"\"\n",
    "    final = initial\n",
    "    for j in range(days):\n",
    "        # print(initial, final)\n",
    "        initial_size = len(initial)\n",
    "        for i in range(len(initial)):\n",
    "            if i in list(range(initial_size)):\n",
    "                if initial[i] == 0:\n",
    "                    initial[i] = 6\n",
    "                    final.append(8)\n",
    "                else:\n",
    "                    final[i] = initial[i]-1\n",
    "            else:\n",
    "                if initial[i] == 0:\n",
    "                    initial[i] = 8\n",
    "                    final.append(8)\n",
    "                else:\n",
    "                    final.append(initial[i]-1)\n",
    "        \n",
    "    initial = final\n",
    "    return len(initial)\n",
    "                             \n",
    "            \n",
    "    "
   ]
  },
  {
   "cell_type": "code",
   "execution_count": 70,
   "id": "96b6b009",
   "metadata": {},
   "outputs": [
    {
     "ename": "KeyboardInterrupt",
     "evalue": "",
     "output_type": "error",
     "traceback": [
      "\u001b[1;31m---------------------------------------------------------------------------\u001b[0m",
      "\u001b[1;31mKeyboardInterrupt\u001b[0m                         Traceback (most recent call last)",
      "\u001b[1;32m<ipython-input-70-41671ee80b42>\u001b[0m in \u001b[0;36m<module>\u001b[1;34m\u001b[0m\n\u001b[1;32m----> 1\u001b[1;33m \u001b[0mgrowth1\u001b[0m\u001b[1;33m(\u001b[0m\u001b[0minitial\u001b[0m\u001b[1;33m,\u001b[0m \u001b[1;36m80\u001b[0m\u001b[1;33m)\u001b[0m\u001b[1;33m\u001b[0m\u001b[1;33m\u001b[0m\u001b[0m\n\u001b[0m",
      "\u001b[1;32m<ipython-input-67-4ad241d9b544>\u001b[0m in \u001b[0;36mgrowth1\u001b[1;34m(initial, days)\u001b[0m\n\u001b[0;32m     11\u001b[0m                     \u001b[0mfinal\u001b[0m\u001b[1;33m.\u001b[0m\u001b[0mappend\u001b[0m\u001b[1;33m(\u001b[0m\u001b[1;36m8\u001b[0m\u001b[1;33m)\u001b[0m\u001b[1;33m\u001b[0m\u001b[1;33m\u001b[0m\u001b[0m\n\u001b[0;32m     12\u001b[0m                 \u001b[1;32melse\u001b[0m\u001b[1;33m:\u001b[0m\u001b[1;33m\u001b[0m\u001b[1;33m\u001b[0m\u001b[0m\n\u001b[1;32m---> 13\u001b[1;33m                     \u001b[0mfinal\u001b[0m\u001b[1;33m[\u001b[0m\u001b[0mi\u001b[0m\u001b[1;33m]\u001b[0m \u001b[1;33m=\u001b[0m \u001b[0minitial\u001b[0m\u001b[1;33m[\u001b[0m\u001b[0mi\u001b[0m\u001b[1;33m]\u001b[0m\u001b[1;33m-\u001b[0m\u001b[1;36m1\u001b[0m\u001b[1;33m\u001b[0m\u001b[1;33m\u001b[0m\u001b[0m\n\u001b[0m\u001b[0;32m     14\u001b[0m             \u001b[1;32melse\u001b[0m\u001b[1;33m:\u001b[0m\u001b[1;33m\u001b[0m\u001b[1;33m\u001b[0m\u001b[0m\n\u001b[0;32m     15\u001b[0m                 \u001b[1;32mif\u001b[0m \u001b[0minitial\u001b[0m\u001b[1;33m[\u001b[0m\u001b[0mi\u001b[0m\u001b[1;33m]\u001b[0m \u001b[1;33m==\u001b[0m \u001b[1;36m0\u001b[0m\u001b[1;33m:\u001b[0m\u001b[1;33m\u001b[0m\u001b[1;33m\u001b[0m\u001b[0m\n",
      "\u001b[1;31mKeyboardInterrupt\u001b[0m: "
     ]
    }
   ],
   "source": [
    "growth1(initial, 80)"
   ]
  },
  {
   "cell_type": "markdown",
   "id": "d2f1d582",
   "metadata": {},
   "source": [
    "# Part 1 attempt 2"
   ]
  },
  {
   "cell_type": "code",
   "execution_count": 135,
   "id": "d735ae9b",
   "metadata": {},
   "outputs": [],
   "source": [
    "from collections import defaultdict\n",
    "def growth1(initial, days):\n",
    "    \n",
    "    counter = defaultdict(int)\n",
    "    \n",
    "    # Initial conditions\n",
    "    for i in range(9):\n",
    "        counter[i] = 0 \n",
    "    \n",
    "    for i in initial:\n",
    "        counter[i] += 1\n",
    "\n",
    "    \n",
    "    # Growing\n",
    "    for j in range(days):\n",
    "        for (key, value) in counter.copy().items():\n",
    "            if key == 0:\n",
    "                counter[6] = value\n",
    "                counter[8] = value\n",
    "            elif key == 7:\n",
    "                counter[6] += value\n",
    "            else:\n",
    "                counter[key-1] = value\n",
    "                \n",
    "\n",
    "\n",
    "    return counter\n",
    "    "
   ]
  },
  {
   "cell_type": "code",
   "execution_count": 136,
   "id": "6eab2e75",
   "metadata": {},
   "outputs": [
    {
     "name": "stdout",
     "output_type": "stream",
     "text": [
      "362639\n"
     ]
    }
   ],
   "source": [
    "total=0\n",
    "for value in growth1(initial, 80).values():\n",
    "    total += value\n",
    "print(total)"
   ]
  },
  {
   "cell_type": "markdown",
   "id": "e2c09011",
   "metadata": {},
   "source": [
    "# Part 2"
   ]
  },
  {
   "cell_type": "code",
   "execution_count": 137,
   "id": "f898dfe4",
   "metadata": {},
   "outputs": [
    {
     "name": "stdout",
     "output_type": "stream",
     "text": [
      "1639854996917\n"
     ]
    }
   ],
   "source": [
    "total=0\n",
    "for value in growth1(initial, 256).values():\n",
    "    total += value\n",
    "print(total)"
   ]
  },
  {
   "cell_type": "markdown",
   "id": "7ad0e52a",
   "metadata": {},
   "source": [
    "# Test/Working out"
   ]
  },
  {
   "cell_type": "code",
   "execution_count": 129,
   "id": "75baf705",
   "metadata": {
    "scrolled": true
   },
   "outputs": [
    {
     "name": "stdout",
     "output_type": "stream",
     "text": [
      "26\n",
      "5934\n"
     ]
    }
   ],
   "source": [
    "with open(\"test.txt\") as file:\n",
    "    initial = file.read().split(\",\")\n",
    "    initial = [int(element) for element in initial]\n",
    "    \n",
    "\n",
    "total=0\n",
    "for value in growth1(initial, 18).values():\n",
    "    total += value\n",
    "print(total)\n",
    "\n",
    "\n",
    "total=0\n",
    "for value in growth1(initial, 80).values():\n",
    "    total += value\n",
    "print(total)"
   ]
  },
  {
   "cell_type": "code",
   "execution_count": null,
   "id": "2db7f97e",
   "metadata": {},
   "outputs": [],
   "source": []
  }
 ],
 "metadata": {
  "kernelspec": {
   "display_name": "Python 3",
   "language": "python",
   "name": "python3"
  },
  "language_info": {
   "codemirror_mode": {
    "name": "ipython",
    "version": 3
   },
   "file_extension": ".py",
   "mimetype": "text/x-python",
   "name": "python",
   "nbconvert_exporter": "python",
   "pygments_lexer": "ipython3",
   "version": "3.9.2"
  }
 },
 "nbformat": 4,
 "nbformat_minor": 5
}
