{
 "cells": [
  {
   "cell_type": "code",
   "execution_count": 1,
   "id": "f9bd5882",
   "metadata": {},
   "outputs": [],
   "source": [
    "with open(\"data.txt\") as file:\n",
    "    coords = file.read().splitlines()\n",
    "\n",
    "# print(coords)\n",
    "\n"
   ]
  },
  {
   "cell_type": "markdown",
   "id": "4e0755db",
   "metadata": {},
   "source": [
    "# Part 1"
   ]
  },
  {
   "cell_type": "code",
   "execution_count": 54,
   "id": "1a612494",
   "metadata": {},
   "outputs": [
    {
     "name": "stdout",
     "output_type": "stream",
     "text": [
      "9\n",
      "9\n"
     ]
    }
   ],
   "source": [
    "from collections import defaultdict\n",
    "\n",
    "p1 = []\n",
    "x_max = 0\n",
    "y_max = 0\n",
    "    \n",
    "for item in coords:\n",
    "    tmp = item.split(\" -> \")\n",
    "    coord1 = tmp[0]\n",
    "    coord2 = tmp[1]\n",
    "    x1 = int(coord1.split(\",\")[0])\n",
    "    y1 = int(coord1.split(\",\")[1])\n",
    "    x2 = int(coord2.split(\",\")[0])\n",
    "    y2 = int(coord2.split(\",\")[1])\n",
    "    if (x1==x2) or (y1==y2):\n",
    "        p1.append([x1,y1,x2,y2])\n",
    "        x_max = max(x1, x2, x_max)\n",
    "        y_max = max(y1, y2, y_max)\n",
    "\n",
    "# print(p1)\n",
    "print(x_max)\n",
    "print(y_max)\n",
    "\n"
   ]
  },
  {
   "cell_type": "code",
   "execution_count": 55,
   "id": "ffbf1001",
   "metadata": {},
   "outputs": [],
   "source": [
    "from collections import defaultdict\n",
    "def vents1(coords):\n",
    "    \"Counts the number of vents in each position on the grid for part 1 (Only vertical and horizontal lines).\"\n",
    "    grid = defaultdict(int)\n",
    "    for coord in coords:\n",
    "        x1 = coord[0]\n",
    "        y1 = coord[1]\n",
    "        x2 = coord[2]\n",
    "        y2 = coord[3]\n",
    "        # print(coord)\n",
    "        if x1 == x2:\n",
    "            for j in range(min(y1, y2), max(y1, y2)+1):\n",
    "                grid[(x1,j)] += 1\n",
    "                # print(max(y1, y2+1))\n",
    "                # print((x1,j))\n",
    "                \n",
    "        else:\n",
    "            for i in range(min(x1, x2), max(x1, x2)+1):\n",
    "                grid[(i,y1)] += 1\n",
    "                # print(max(x1, x2+1))\n",
    "                # print((i,y1))\n",
    "    \n",
    "    return grid\n",
    "\n"
   ]
  },
  {
   "cell_type": "code",
   "execution_count": 56,
   "id": "08d11758",
   "metadata": {},
   "outputs": [
    {
     "name": "stdout",
     "output_type": "stream",
     "text": [
      "5\n"
     ]
    }
   ],
   "source": [
    "part1 = vents1(p1)\n",
    "\n",
    "count = 0\n",
    "for coord in part1.keys():\n",
    "    if part1[coord] >= 2:\n",
    "        count += 1\n",
    "\n",
    "print(count)\n",
    "\n"
   ]
  },
  {
   "cell_type": "markdown",
   "id": "suffering-houston",
   "metadata": {},
   "source": [
    "# Part 2"
   ]
  },
  {
   "cell_type": "code",
   "execution_count": 2,
   "id": "experimental-atlanta",
   "metadata": {},
   "outputs": [
    {
     "name": "stdout",
     "output_type": "stream",
     "text": [
      "989\n",
      "990\n"
     ]
    }
   ],
   "source": [
    "p2 = []\n",
    "x_max = 0\n",
    "y_max = 0\n",
    "\n",
    "\n",
    "for item in coords:\n",
    "    tmp = item.split(\" -> \")\n",
    "    coord1 = tmp[0]\n",
    "    coord2 = tmp[1]\n",
    "    x1 = int(coord1.split(\",\")[0])\n",
    "    y1 = int(coord1.split(\",\")[1])\n",
    "    x2 = int(coord2.split(\",\")[0])\n",
    "    y2 = int(coord2.split(\",\")[1])\n",
    "    if (x1==x2) or (y1==y2) or (abs(x1-x2)==abs(y1-y2)):\n",
    "        p2.append([x1,y1,x2,y2])\n",
    "        x_max = max(x1, x2, x_max)\n",
    "        y_max = max(y1, y2, y_max)\n",
    "\n",
    "# print(p2)\n",
    "print(x_max)\n",
    "print(y_max)\n",
    "\n"
   ]
  },
  {
   "cell_type": "code",
   "execution_count": 3,
   "id": "innocent-musician",
   "metadata": {},
   "outputs": [],
   "source": [
    "from collections import defaultdict\n",
    "def vents2(coords):\n",
    "    \"Counts the number of vents in each position on the grid for part 2.\"\n",
    "    grid = defaultdict(int)\n",
    "    for coord in coords:\n",
    "        x1 = coord[0]\n",
    "        y1 = coord[1]\n",
    "        x2 = coord[2]\n",
    "        y2 = coord[3]\n",
    "        # print(coord)\n",
    "        if x1 == x2:\n",
    "            for j in range(min(y1, y2), max(y1, y2)+1):\n",
    "                grid[(x1,j)] += 1\n",
    "        elif y1 == y2:\n",
    "            for i in range(min(x1, x2), max(x1, x2)+1):\n",
    "                grid[(i,y1)] += 1\n",
    "        else:\n",
    "            for i in range(abs(x1-x2)+1):\n",
    "                if (x2>x1 and y2>y1) or (x1>x2 and y1>y2):\n",
    "                    grid[(min(x1,x2)+i, min(y1,y2)+i)] += 1\n",
    "                else:\n",
    "                    grid[(max(x1,x2)-i, min(y1,y2)+i)] += 1\n",
    "                    \n",
    "\n",
    "    return grid\n",
    "\n"
   ]
  },
  {
   "cell_type": "code",
   "execution_count": 4,
   "id": "matched-friendship",
   "metadata": {},
   "outputs": [
    {
     "name": "stdout",
     "output_type": "stream",
     "text": [
      "19571\n"
     ]
    }
   ],
   "source": [
    "part2 = vents2(p2)\n",
    "\n",
    "count = 0\n",
    "for coord in part2.keys():\n",
    "    if part2[coord] >= 2:\n",
    "        count += 1\n",
    "\n",
    "print(count)\n"
   ]
  },
  {
   "cell_type": "markdown",
   "id": "08227ea6",
   "metadata": {},
   "source": [
    "# Test/Working out"
   ]
  },
  {
   "cell_type": "code",
   "execution_count": 5,
   "id": "b7f68793",
   "metadata": {},
   "outputs": [
    {
     "name": "stdout",
     "output_type": "stream",
     "text": [
      "['0,9 -> 5,9', '8,0 -> 0,8', '9,4 -> 3,4', '2,2 -> 2,1', '7,0 -> 7,4', '6,4 -> 2,0', '0,9 -> 2,9', '3,4 -> 1,4', '0,0 -> 8,8', '5,5 -> 8,2']\n"
     ]
    }
   ],
   "source": [
    "with open(\"test.txt\") as file:\n",
    "    coords = file.read().splitlines()\n",
    "\n",
    "print(coords)\n",
    "\n"
   ]
  },
  {
   "cell_type": "code",
   "execution_count": 58,
   "id": "eb4c8840",
   "metadata": {},
   "outputs": [
    {
     "name": "stdout",
     "output_type": "stream",
     "text": [
      "[[0, 9, 5, 9], [9, 4, 3, 4], [2, 2, 2, 1], [7, 0, 7, 4], [0, 9, 2, 9], [3, 4, 1, 4]]\n",
      "9\n",
      "9\n"
     ]
    }
   ],
   "source": [
    "from collections import defaultdict\n",
    "\n",
    "test = []\n",
    "x_max = 0\n",
    "y_max = 0\n",
    "\n",
    "for item in coords:\n",
    "    tmp = item.split(\" -> \")\n",
    "    coord1 = tmp[0]\n",
    "    coord2 = tmp[1]\n",
    "    x1 = int(coord1.split(\",\")[0])\n",
    "    y1 = int(coord1.split(\",\")[1])\n",
    "    x2 = int(coord2.split(\",\")[0])\n",
    "    y2 = int(coord2.split(\",\")[1])\n",
    "\n",
    "    if (x1==x2) or (y1==y2):\n",
    "        test.append([x1,y1,x2,y2])\n",
    "        x_max = max(x1, x2, x_max)\n",
    "        y_max = max(y1, y2, y_max)\n",
    "\n",
    "print(test)\n",
    "print(x_max)\n",
    "print(y_max)\n",
    "\n"
   ]
  },
  {
   "cell_type": "code",
   "execution_count": 60,
   "id": "946cd379",
   "metadata": {},
   "outputs": [
    {
     "name": "stdout",
     "output_type": "stream",
     "text": [
      "defaultdict(<class 'int'>, {(0, 9): 2, (1, 9): 2, (2, 9): 2, (3, 9): 1, (4, 9): 1, (5, 9): 1, (3, 4): 2, (4, 4): 1, (5, 4): 1, (6, 4): 1, (7, 4): 2, (8, 4): 1, (9, 4): 1, (2, 1): 1, (2, 2): 1, (7, 0): 1, (7, 1): 1, (7, 2): 1, (7, 3): 1, (1, 4): 1, (2, 4): 1})\n",
      "(0, 9)\n",
      "(1, 9)\n",
      "(2, 9)\n",
      "(3, 4)\n",
      "(7, 4)\n",
      "5\n"
     ]
    }
   ],
   "source": [
    "test1 = vents1(test)\n",
    "print(test1)\n",
    "count = 0\n",
    "for coord in test1.keys():\n",
    "    if test1[coord] >= 2:\n",
    "        count += 1\n",
    "        print(coord)\n",
    "\n",
    "print(count)"
   ]
  },
  {
   "cell_type": "code",
   "execution_count": 7,
   "id": "instructional-breast",
   "metadata": {},
   "outputs": [
    {
     "name": "stdout",
     "output_type": "stream",
     "text": [
      "[[0, 9, 5, 9], [8, 0, 0, 8], [9, 4, 3, 4], [2, 2, 2, 1], [7, 0, 7, 4], [6, 4, 2, 0], [0, 9, 2, 9], [3, 4, 1, 4], [0, 0, 8, 8], [5, 5, 8, 2]]\n"
     ]
    }
   ],
   "source": [
    "test = []\n",
    "x_max = 0\n",
    "y_max = 0\n",
    "\n",
    "\n",
    "for item in coords:\n",
    "    tmp = item.split(\" -> \")\n",
    "    coord1 = tmp[0]\n",
    "    coord2 = tmp[1]\n",
    "    x1 = int(coord1.split(\",\")[0])\n",
    "    y1 = int(coord1.split(\",\")[1])\n",
    "    x2 = int(coord2.split(\",\")[0])\n",
    "    y2 = int(coord2.split(\",\")[1])\n",
    "    if (x1==x2) or (y1==y2) or (abs(x1-x2)==abs(y1-y2)):\n",
    "        test.append([x1,y1,x2,y2])\n",
    "        x_max = max(x1, x2, x_max)\n",
    "        y_max = max(y1, y2, y_max)\n",
    "\n",
    "\n",
    "print(test)\n"
   ]
  },
  {
   "cell_type": "code",
   "execution_count": 8,
   "id": "ed477291",
   "metadata": {},
   "outputs": [
    {
     "name": "stdout",
     "output_type": "stream",
     "text": [
      "defaultdict(<class 'int'>, {(0, 9): 2, (1, 9): 2, (2, 9): 2, (3, 9): 1, (4, 9): 1, (5, 9): 1, (8, 0): 1, (7, 1): 2, (6, 2): 1, (5, 3): 2, (4, 4): 3, (3, 5): 1, (2, 6): 1, (1, 7): 1, (0, 8): 1, (3, 4): 2, (5, 4): 1, (6, 4): 3, (7, 4): 2, (8, 4): 1, (9, 4): 1, (2, 1): 1, (2, 2): 2, (7, 0): 1, (7, 2): 1, (7, 3): 2, (2, 0): 1, (3, 1): 1, (4, 2): 1, (1, 4): 1, (2, 4): 1, (0, 0): 1, (1, 1): 1, (3, 3): 1, (5, 5): 2, (6, 6): 1, (7, 7): 1, (8, 8): 1, (8, 2): 1})\n",
      "(0, 9)\n",
      "(1, 9)\n",
      "(2, 9)\n",
      "(7, 1)\n",
      "(5, 3)\n",
      "(4, 4)\n",
      "(3, 4)\n",
      "(6, 4)\n",
      "(7, 4)\n",
      "(2, 2)\n",
      "(7, 3)\n",
      "(5, 5)\n",
      "12\n"
     ]
    }
   ],
   "source": [
    "test2 = vents2(test)\n",
    "print(vents2(test))\n",
    "count = 0 \n",
    "for coord in test2.keys():\n",
    "    if test2[coord] >= 2:\n",
    "        count += 1\n",
    "        print(coord)\n",
    "\n",
    "print(count)"
   ]
  },
  {
   "cell_type": "code",
   "execution_count": null,
   "id": "beautiful-roulette",
   "metadata": {},
   "outputs": [],
   "source": []
  }
 ],
 "metadata": {
  "kernelspec": {
   "display_name": "Python 3",
   "language": "python",
   "name": "python3"
  },
  "language_info": {
   "codemirror_mode": {
    "name": "ipython",
    "version": 3
   },
   "file_extension": ".py",
   "mimetype": "text/x-python",
   "name": "python",
   "nbconvert_exporter": "python",
   "pygments_lexer": "ipython3",
   "version": "3.9.2"
  }
 },
 "nbformat": 4,
 "nbformat_minor": 5
}
