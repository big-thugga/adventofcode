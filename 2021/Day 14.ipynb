{
 "cells": [
  {
   "cell_type": "markdown",
   "id": "515b564d",
   "metadata": {},
   "source": [
    "# Part 1"
   ]
  },
  {
   "cell_type": "code",
   "execution_count": 1,
   "id": "e890e98a",
   "metadata": {},
   "outputs": [
    {
     "name": "stdout",
     "output_type": "stream",
     "text": [
      "['P', 'K', 'H', 'O', 'V', 'V', 'O', 'S', 'C', 'N', 'V', 'H', 'H', 'C', 'V', 'V', 'C', 'B', 'O', 'H']\n",
      "{'NO': 'B', 'PV': 'P', 'OC': 'K', 'SC': 'K', 'FK': 'P', 'PO': 'P', 'FC': 'V', 'KN': 'V', 'CN': 'O', 'CB': 'K', 'NF': 'K', 'CO': 'F', 'SK': 'F', 'VO': 'B', 'SF': 'F', 'PB': 'F', 'FF': 'C', 'HC': 'P', 'PF': 'B', 'OP': 'B', 'OO': 'V', 'OK': 'N', 'KB': 'H', 'PN': 'V', 'PP': 'N', 'FV': 'S', 'BO': 'O', 'HN': 'C', 'FP': 'F', 'BP': 'B', 'HB': 'N', 'VC': 'F', 'PC': 'V', 'FO': 'O', 'OH': 'S', 'FH': 'B', 'HK': 'B', 'BC': 'F', 'ON': 'K', 'FN': 'N', 'NN': 'O', 'PH': 'P', 'KS': 'H', 'HV': 'F', 'BK': 'O', 'NP': 'S', 'CC': 'H', 'KV': 'V', 'NB': 'C', 'NS': 'S', 'KO': 'V', 'NK': 'H', 'HO': 'C', 'KC': 'P', 'VH': 'C', 'VK': 'O', 'CP': 'K', 'BS': 'N', 'BB': 'F', 'VV': 'K', 'SH': 'O', 'SO': 'N', 'VF': 'K', 'NV': 'K', 'SV': 'O', 'NH': 'C', 'VS': 'N', 'OF': 'N', 'SP': 'C', 'HP': 'O', 'NC': 'V', 'KP': 'B', 'KH': 'O', 'SN': 'S', 'CS': 'N', 'FB': 'P', 'OB': 'H', 'VP': 'B', 'CH': 'O', 'BF': 'B', 'PK': 'S', 'CF': 'V', 'CV': 'S', 'VB': 'P', 'CK': 'H', 'PS': 'N', 'SS': 'C', 'OS': 'P', 'OV': 'F', 'VN': 'V', 'BV': 'V', 'HF': 'B', 'FS': 'O', 'BN': 'K', 'SB': 'N', 'HH': 'S', 'BH': 'S', 'KK': 'H', 'HS': 'K', 'KF': 'V'}\n"
     ]
    }
   ],
   "source": [
    "template, rules = open('data.txt').read().split('\\n\\n')\n",
    "\n",
    "rules = {key: value for (key, value) in [x.split(' -> ') for x in rules.splitlines()]}\n",
    "\n",
    "print(list(template))\n",
    "print(rules)\n"
   ]
  },
  {
   "cell_type": "code",
   "execution_count": 2,
   "id": "97cfaa1b",
   "metadata": {},
   "outputs": [],
   "source": [
    "from collections import Counter \n",
    "def grow(n, template, rules):\n",
    "\n",
    "    for i in range(n):\n",
    "        count = 0\n",
    "        template = list(template)\n",
    "        old = template\n",
    "        for j in range(len(old)-1):\n",
    "            if ''.join(old[j:j+2]) in rules:\n",
    "                template = template[:(j+1+count)] + list(rules[''.join(old[j:j+2])]) + template[(j+1+count):]\n",
    "                count += 1\n",
    "        \n",
    "    return Counter(template)"
   ]
  },
  {
   "cell_type": "code",
   "execution_count": 3,
   "id": "peripheral-compensation",
   "metadata": {},
   "outputs": [
    {
     "data": {
      "text/plain": [
       "3048"
      ]
     },
     "execution_count": 3,
     "metadata": {},
     "output_type": "execute_result"
    }
   ],
   "source": [
    "my_dict = grow(10, template, rules)\n",
    "my_dict[max(my_dict, key=my_dict.get)] - my_dict[min(my_dict, key=my_dict.get)]"
   ]
  },
  {
   "cell_type": "markdown",
   "id": "ccfb18df",
   "metadata": {},
   "source": [
    "# Part 2"
   ]
  },
  {
   "cell_type": "code",
   "execution_count": 4,
   "id": "gorgeous-smooth",
   "metadata": {},
   "outputs": [],
   "source": [
    "template, rules = open('data.txt').read().split('\\n\\n')\n",
    "\n",
    "rules = {key: value for (key, value) in [x.split(' -> ') for x in rules.splitlines()]}\n"
   ]
  },
  {
   "cell_type": "code",
   "execution_count": 5,
   "id": "8763e03a",
   "metadata": {},
   "outputs": [
    {
     "data": {
      "text/plain": [
       "3288891573057"
      ]
     },
     "execution_count": 5,
     "metadata": {},
     "output_type": "execute_result"
    }
   ],
   "source": [
    "from collections import defaultdict\n",
    "\n",
    "def grow2(n, template, rules):\n",
    "    \n",
    "    # Initial conditions\n",
    "    template = list(template)\n",
    "    pairs = defaultdict(int)\n",
    "    singles = Counter(template)\n",
    "    \n",
    "    for i in range(len(template)-1):\n",
    "        pairs[''.join(template[i:i+2])] += 1\n",
    "    \n",
    "    \n",
    "    # Growing\n",
    "    for i in range(n):\n",
    "        for pair, count in pairs.copy().items():\n",
    "            pairs[pair] -= count\n",
    "            pairs[''.join(list(pair[0]) + list(rules[pair]))] += count\n",
    "            pairs[''.join(list(rules[pair]) + list(pair[1]))] += count\n",
    "            singles[rules[pair]] += count\n",
    "    \n",
    "    return singles[max(singles, key=singles.get)] - singles[min(singles, key=singles.get)]\n",
    "\n",
    "grow2(40, template, rules)\n"
   ]
  },
  {
   "cell_type": "markdown",
   "id": "e9758318",
   "metadata": {},
   "source": [
    "# Testing/Working out"
   ]
  },
  {
   "cell_type": "code",
   "execution_count": 6,
   "id": "61199797",
   "metadata": {},
   "outputs": [
    {
     "name": "stdout",
     "output_type": "stream",
     "text": [
      "['N', 'N', 'C', 'B']\n",
      "{'CH': 'B', 'HH': 'N', 'CB': 'H', 'NH': 'C', 'HB': 'C', 'HC': 'B', 'HN': 'C', 'NN': 'C', 'BH': 'H', 'NC': 'B', 'NB': 'B', 'BN': 'B', 'BB': 'N', 'BC': 'B', 'CC': 'N', 'CN': 'C'}\n"
     ]
    }
   ],
   "source": [
    "template, rules = open('test.txt').read().split('\\n\\n')\n",
    "\n",
    "rules = {key: value for (key, value) in [x.split(' -> ') for x in rules.splitlines()]}\n",
    "\n",
    "print(list(template))\n",
    "print(rules)\n"
   ]
  },
  {
   "cell_type": "code",
   "execution_count": 7,
   "id": "tough-saver",
   "metadata": {},
   "outputs": [
    {
     "data": {
      "text/plain": [
       "1588"
      ]
     },
     "execution_count": 7,
     "metadata": {},
     "output_type": "execute_result"
    }
   ],
   "source": [
    "my_dict = grow(10, template, rules)\n",
    "my_dict[max(my_dict, key=my_dict.get)] - my_dict[min(my_dict, key=my_dict.get)]"
   ]
  },
  {
   "cell_type": "code",
   "execution_count": 8,
   "id": "83e8cdf8",
   "metadata": {},
   "outputs": [
    {
     "name": "stdout",
     "output_type": "stream",
     "text": [
      "Counter({'B': 23, 'N': 11, 'C': 10, 'H': 5})\n",
      "defaultdict(<class 'int'>, {'NB': 9, 'BB': 9, 'BN': 6, 'BC': 4, 'CC': 2, 'CN': 3, 'NC': 1, 'CB': 5, 'BH': 3, 'HC': 3, 'HH': 1, 'HN': 1, 'NH': 1})\n"
     ]
    }
   ],
   "source": [
    "template = 'NBBNBNBBCCNBCNCCNBBNBBNBBBNBBNBBCBHCBHHNHCBBCBHCB'\n",
    "\n",
    "pairs = defaultdict(int)\n",
    "\n",
    "for i in range(len(template)-1):\n",
    "    pairs[''.join(template[i:i+2])] += 1\n",
    "    \n",
    "\n",
    "print(Counter(template))\n",
    "print(pairs)\n"
   ]
  },
  {
   "cell_type": "code",
   "execution_count": null,
   "id": "9365618f",
   "metadata": {},
   "outputs": [],
   "source": []
  }
 ],
 "metadata": {
  "kernelspec": {
   "display_name": "Python 3",
   "language": "python",
   "name": "python3"
  },
  "language_info": {
   "codemirror_mode": {
    "name": "ipython",
    "version": 3
   },
   "file_extension": ".py",
   "mimetype": "text/x-python",
   "name": "python",
   "nbconvert_exporter": "python",
   "pygments_lexer": "ipython3",
   "version": "3.9.1"
  }
 },
 "nbformat": 4,
 "nbformat_minor": 5
}
