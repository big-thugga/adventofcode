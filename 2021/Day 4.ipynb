{
 "cells": [
  {
   "cell_type": "markdown",
   "id": "d2389f45",
   "metadata": {},
   "source": [
    "# Part 1"
   ]
  },
  {
   "cell_type": "markdown",
   "id": "f5069f4a",
   "metadata": {},
   "source": [
    "Loading in the data, which is delimited via white space. Creating a dictionary of each bingo board, with keys as the board number. The bingo boards are stored as a pandas data frame."
   ]
  },
  {
   "cell_type": "code",
   "execution_count": 152,
   "id": "c0e046cf",
   "metadata": {},
   "outputs": [
    {
     "name": "stdout",
     "output_type": "stream",
     "text": [
      "    0   1   2   3   4\n",
      "0  76  82   2  92  53\n",
      "1  74  33   8  89   3\n",
      "2  80  27  72  26  91\n",
      "3  30  83   7  16   4\n",
      "4  20  56  48   5  13\n",
      "{'33', '89', '74', '3', '8'}\n",
      "{'56', '33', '27', '83', '82'}\n"
     ]
    }
   ],
   "source": [
    "from collections import defaultdict\n",
    "import pandas as pd\n",
    "\n",
    "\n",
    "fp = open('data.txt')\n",
    "\n",
    "draw = next(fp).split(\",\")\n",
    "draw = list(map(int, draw))\n",
    "\n",
    "my_dict = defaultdict(list)\n",
    "count = 0\n",
    "\n",
    "\n",
    "for line in fp:\n",
    "\n",
    "    if line == \"\\n\":\n",
    "        count += 1\n",
    "    else:\n",
    "        my_dict[count].append(line.split())\n",
    "\n",
    "for key, value in my_dict.items():\n",
    "    my_dict[key] = pd.DataFrame(value)\n",
    "\n",
    "print(my_dict[1])\n",
    "print(set(my_dict[1].iloc[1,:]))\n",
    "print(set(my_dict[1].iloc[:,1]))"
   ]
  },
  {
   "cell_type": "markdown",
   "id": "34987337",
   "metadata": {},
   "source": [
    "Writing a function which checks whether the drawed numbers produces a bingo on the board (Horiztonal or vertical lines). Had to play around with sets, map and int as the data is a string, while to check bingo we need subsets, and the draw is a list of numbers."
   ]
  },
  {
   "cell_type": "code",
   "execution_count": 153,
   "id": "bb750831",
   "metadata": {},
   "outputs": [
    {
     "name": "stdout",
     "output_type": "stream",
     "text": [
      "Hello\n"
     ]
    }
   ],
   "source": [
    "def bingo(draw, df):\n",
    "    \"\"\"Function which checks whether the drawed numbers produces a bingo on the board (Horiztonal or vertical lines)\"\"\"\n",
    "    for i in range(5):\n",
    "        if (set(map(int, df.iloc[i,:])).issubset(set(draw)) == True) or (set(map(int, df.iloc[:,i])).issubset(set(draw)) == True):\n",
    "            return True\n",
    "\n",
    "\n",
    "if bingo([76,82,2,92,53], my_dict[1]) == True:\n",
    "    print(\"Hello\")"
   ]
  },
  {
   "cell_type": "markdown",
   "id": "6a4bf8c3",
   "metadata": {},
   "source": [
    "Checking stuff"
   ]
  },
  {
   "cell_type": "code",
   "execution_count": 154,
   "id": "01d1072c",
   "metadata": {},
   "outputs": [
    {
     "name": "stdout",
     "output_type": "stream",
     "text": [
      "100\n",
      "[90, 4, 2, 96, 46, 1, 62, 97, 3, 52, 7, 35, 50, 28, 31, 37, 74, 26, 59, 53, 82, 47, 83, 80, 19, 40, 68, 95, 34, 55, 54, 73, 12, 78, 30, 63, 57, 93, 72, 77, 56, 91, 23, 67, 64, 79, 85, 84, 76, 10, 58, 0, 29, 13, 94, 20, 32, 25, 11, 38, 89, 21, 98, 92, 42, 27, 14, 99, 24, 75, 86, 51, 22, 48, 9, 33, 49, 18, 70, 8, 87, 61, 39, 16, 66, 71, 5, 69, 15, 43, 88, 45, 6, 81, 60, 36, 44, 17, 41, 65]\n",
      "    0   1   2   3   4\n",
      "0   2  16  13  57  32\n",
      "1  26  70  37  50  68\n",
      "2  58  17   3  96  67\n",
      "3  33  95  72  59  42\n",
      "4  94  43  51  20  60\n"
     ]
    }
   ],
   "source": [
    "set([1,2,3]).issubset([1,2,3,4])\n",
    "print(len(my_dict))\n",
    "print(draw)\n",
    "draw[:4]\n",
    "len(my_dict)\n",
    "print(my_dict[len(my_dict)])"
   ]
  },
  {
   "cell_type": "code",
   "execution_count": 178,
   "id": "36ba7455",
   "metadata": {},
   "outputs": [],
   "source": [
    "def squid(draw, my_dict):\n",
    "    \"\"\"Function that iteratively goes through the draw to see who wins first.\n",
    "    Returns the board, draw index, and last draw number. Can edit this function to get the board number as well.\"\"\"\n",
    "    for i in range(5, len(draw)):\n",
    "        for key in my_dict.keys():\n",
    "            if bingo(draw[:i], my_dict[key]) == True:\n",
    "                return my_dict[key], draw[i-1], draw[:i]\n"
   ]
  },
  {
   "cell_type": "code",
   "execution_count": 180,
   "id": "2a9b191f",
   "metadata": {},
   "outputs": [
    {
     "data": {
      "text/plain": [
       "8136"
      ]
     },
     "execution_count": 180,
     "metadata": {},
     "output_type": "execute_result"
    }
   ],
   "source": [
    "# Subtracting the draw from the 23rd board then multiplying it by the winning draw number\n",
    "sum(set(list(map(int, squid(draw, my_dict)[0].stack().tolist()))) - set(squid(draw, my_dict)[2])) * squid(draw, my_dict)[1]"
   ]
  },
  {
   "cell_type": "markdown",
   "id": "e2f3f37c",
   "metadata": {},
   "source": [
    "# Part 2"
   ]
  },
  {
   "cell_type": "code",
   "execution_count": 185,
   "id": "e181aa15",
   "metadata": {},
   "outputs": [],
   "source": [
    "def squid2(draw, my_dict):\n",
    "    fp = open('data.txt')\n",
    "    draw = next(fp).split(\",\")\n",
    "    draw = list(map(int, draw))\n",
    "\n",
    "    my_dict = defaultdict(list)\n",
    "    count = 0\n",
    "\n",
    "\n",
    "    for line in fp:\n",
    "\n",
    "        if line == \"\\n\":\n",
    "            count += 1\n",
    "        else:\n",
    "            my_dict[count].append(line.split())\n",
    "\n",
    "    for key, value in my_dict.items():\n",
    "        my_dict[key] = pd.DataFrame(value)\n",
    "\n",
    "    \"\"\"Function that iteratively goes through the draw to see who wins last. \n",
    "    Need to use a shallow copy of a dictionary in the loop as we are mutating the dictionary.\n",
    "    Also have to load the file again since we mutate the dictionary. NOTE THAT WE NEED TO FIND THE\n",
    "    WINNING NUMBER FOR THE LAST BOARD, HENCE NEED TO CALL THE squid FUNCTION AGAIN FOR THE LAST BOARD\"\"\"\n",
    "    for i in range(5, len(draw)):\n",
    "        for key in my_dict.copy().keys():\n",
    "            if len(my_dict) == 1:\n",
    "                return squid(draw, my_dict)\n",
    "            else:\n",
    "                if bingo(draw[:i], my_dict[key]) == True:\n",
    "                    del my_dict[key]\n"
   ]
  },
  {
   "cell_type": "code",
   "execution_count": 186,
   "id": "d8c7f66d",
   "metadata": {},
   "outputs": [
    {
     "data": {
      "text/plain": [
       "12738"
      ]
     },
     "execution_count": 186,
     "metadata": {},
     "output_type": "execute_result"
    }
   ],
   "source": [
    "sum(set(list(map(int, squid2(draw, my_dict)[0].stack().tolist()))) - set(squid2(draw, my_dict)[2])) * squid2(draw, my_dict)[1]"
   ]
  },
  {
   "cell_type": "markdown",
   "id": "04ba99e5",
   "metadata": {},
   "source": [
    "# Test/Working out"
   ]
  },
  {
   "cell_type": "code",
   "execution_count": 150,
   "id": "dd5b1622",
   "metadata": {},
   "outputs": [
    {
     "name": "stdout",
     "output_type": "stream",
     "text": [
      "Last draw number = 24 on draw 12\n",
      "Board bingo = 3\n",
      "Draw = [7, 4, 9, 5, 11, 17, 23, 2, 0, 14, 21, 24]\n",
      "4512\n"
     ]
    }
   ],
   "source": [
    "fp = open('test.txt')\n",
    "\n",
    "draw = next(fp).split(\",\")\n",
    "draw = list(map(int, draw))\n",
    "\n",
    "my_dict = defaultdict(list)\n",
    "count = 0\n",
    "\n",
    "\n",
    "for line in fp:\n",
    "\n",
    "    if line == \"\\n\":\n",
    "        count += 1\n",
    "    else:\n",
    "        my_dict[count].append(line.split())\n",
    "\n",
    "for key, value in my_dict.items():\n",
    "    my_dict[key] = pd.DataFrame(value)\n",
    "    \n",
    "\n",
    "def squid(draw, my_dict):\n",
    "    \"\"\"Function that iteratively goes through the draw to see who wins first.\"\"\"\n",
    "    for i in range(5, len(draw)):\n",
    "        for key in my_dict.keys():\n",
    "            if bingo(draw[:i], my_dict[key]) == True:\n",
    "                print(f\"Last draw number = {draw[i-1]} on draw {i}\")\n",
    "                print(f\"Board bingo = {key}\")\n",
    "                print(f\"Draw = {draw[:i]}\")\n",
    "                return\n",
    "            \n",
    "squid(draw, my_dict)\n",
    "print(sum(set(list(map(int, my_dict[3].stack().tolist()))) - set(draw[:12])) * draw[12-1])\n",
    "\n",
    "\n"
   ]
  },
  {
   "cell_type": "code",
   "execution_count": null,
   "id": "029b8353",
   "metadata": {},
   "outputs": [],
   "source": []
  }
 ],
 "metadata": {
  "kernelspec": {
   "display_name": "Python 3",
   "language": "python",
   "name": "python3"
  },
  "language_info": {
   "codemirror_mode": {
    "name": "ipython",
    "version": 3
   },
   "file_extension": ".py",
   "mimetype": "text/x-python",
   "name": "python",
   "nbconvert_exporter": "python",
   "pygments_lexer": "ipython3",
   "version": "3.9.2"
  }
 },
 "nbformat": 4,
 "nbformat_minor": 5
}
